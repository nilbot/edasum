{
 "cells": [
  {
   "cell_type": "code",
   "execution_count": 1,
   "metadata": {
    "collapsed": true,
    "deletable": true,
    "editable": true
   },
   "outputs": [],
   "source": [
    "import sys\n",
    "import getopt\n",
    "import codecs\n",
    "import collections\n",
    "import numpy\n",
    "import networkx\n",
    "import nltk\n",
    "from sklearn.feature_extraction import DictVectorizer\n",
    "from sklearn.metrics import pairwise_distances\n",
    "from internet_lexrank import summarize"
   ]
  },
  {
   "cell_type": "code",
   "execution_count": 2,
   "metadata": {
    "collapsed": false,
    "deletable": true,
    "editable": true
   },
   "outputs": [
    {
     "name": "stdout",
     "output_type": "stream",
     "text": [
      "length 13\n"
     ]
    }
   ],
   "source": [
    "import pickle\n",
    "\n",
    "with open('gibson.pkl', 'rb') as f:\n",
    "    gibson_docs = pickle.load(f)\n",
    "# with open('genre.pkl', 'rb') as f:\n",
    "#     genre_docs = pickle.load(f)\n",
    "\n",
    "print(\"length {0}\".format(len(gibson_docs)))"
   ]
  },
  {
   "cell_type": "code",
   "execution_count": 3,
   "metadata": {
    "collapsed": false,
    "deletable": true,
    "editable": true
   },
   "outputs": [
    {
     "data": {
      "text/plain": [
       "['Requested a quiet room and got one. Hotel is modern and staff are pleasant. Room had expected amenities. Beds comfortable. Rituals toiletries. Towels not the biggest or fluffiest, but adequate. Seal on shower door needs replacing, but otherwise room well maintained. ',\n",
       " 'We got s good deal in this hotel. Easy for parking and get to. Lucas stop right outside the hotel too. ',\n",
       " 'Last week my family and I were going to see Michael Mcintyre in the 3 Arena. We decided to meet for dinner in the Gibson Hotel as it is right beside the Arena. My wife and one of my daughters ordered sirloin steak. The steaks were cut far too thick, were over cooked and consequently were rubbery. I had a hamburger. It was seriously over cooked. It was dry and black. The assistant manager saw that we were unhappy and she deducted 15% from the bill. Even with 15% off the meal was dear. Four main courses and a bottle of house wine was €120 after 15% was deducted. A Four Star hotel should offer better quality and better value.',\n",
       " \"My friend and I were attending a show in 3 arena, perfect location, room was so clean and lovely, breakfast was a Buffett but amazing and fresh, stayed a while to enjoy and weren't rushed at all\",\n",
       " \"Myself & my partner really enjoyed staying here, it was perfect for going to the 3 Arena, and getting there was great as we didn't have to travel through the whole city, it was just at the end of the tunnel! Rooms were spacious & really comfortable. The staff were really friendly & helpful, and my partner got room service at 3am & said it was amazing! The only issue was the fact there wasn't a plug socket near a mirror, but it certainly wouldn't put me off staying there again, just maybe bring an extension lead!\",\n",
       " 'We checked in the hotel on the Friday 6th November. The reason for the stay was due to Micheal Mcintyre show on in the 3arena.',\n",
       " 'handy beside the luas and the 3 arena, value for money, big rooms, big bathroom, warm, comfy, lovely staff, lovely food, very quiet, staff was helpful, cant fault the place and am loking forward to next stay',\n",
       " 'This is a convenient hotel for the 3 arena venue but certainly not somewhere for a quiet night away, it was my third time to stay here this time for business with 14 colleagues and suppliers.',\n",
       " \"My wife and I only stayed one night just before leaving Dublin, because it was a relatively good deal and only 10 minutes from the airport. We didn't have a lot of experience with this hotel, so maybe that was the problem.\",\n",
       " 'My girlfriend and I were visiting Dublin and decided to spend a couple of days here. We were firstly, amazed at the look and feel of the hotel. It is a glorious piece of eye candy and looks very special upon first glance. ',\n",
       " \"I stayed at the Gibson Hotel with my husband as we were attending Michael McIntyre event at the 3 Arena. Stayed 2 nights. Check in was fine, even offered to take bags to the room for us. We went out for meal the first night, and ate in the hotel on the second night. The food wasn't a great selection, Asian food and not much else. \",\n",
       " 'The Gibson hotel is located literally a stones throw from the 3 arena which makes it a perfect place to stay if you are going to see someone play here. ',\n",
       " \"My husband and I stayed here on Friday 6th November as a 25th anniversary present from family members as we were also treated to an night at Michael McIntyre in the 3 Arena. The location is brilliant as right beside the 3 Arena. The hotel does not have it's own car park so you have to park in the Point Village car park which connects to the hotel.This costs 14 euro for overnight parking until 12 noon the next day with an extra 3 euro per hour charge for every hour after 12 noon and which you pay for at reception. The hotel was extremely busy when we arrived due to the GAA Awards also taking place nearby. We had a Superior Double room which was beautiful and had a fabulous big bathroom with a separate shower cubicle and toiletries were provided. There is also a proper hairdryer, iron and iron board , fridge and tea/coffee making facilities. The view was just overlooking the back of the hotel so nothing special. I had emailed an earlier query and mentioned how our stay was a 25th anniversary gift but there was no little extras to mark our special occasion! This was a little disappointing as we had been fortunate enough to have had the chance to stay in 3 other hotels while celebrating our anniversary and each one them had added some lovely little touch in our room for our arrival. I had enquired about a late check out until 2pm as there were various cards offering this facility in our room but I was advised that the hotel was too full to offer this but I pleaded and eventually was offered a 1pm check out. The restaurant and bar area were too full to avail of any food so we could only grab a burger from a stall set up in the hotel lobby at a cost of 8 euro for a burger on it's own! We had earlier been advised that the restaurant stopped serving food at 10pm so we knew we would too late to eat after the show so we just had a bag of chips from one of the many stalls outside the arena! We went back into the hotel and tried to find a seat in the huge bar area but it was packed so we wandered around it for awhile and eventually grabbed 2 seats when someone left. We then discovered that food was still being served and this was after 11pm so we could have actually sat down at a table and eaten. After a lovely sleep in our quiet room 445 we had a fabulous full Irish breakfast , which is served until 11am at weekends ,and has a huge choice of lovely fresh cold and hot food. I then hopped onto the Luas which is right outside the hotel door and got out at the Jervis Street shopping centre for 1 hour of shopping while my husband realxed in our comfortable room before we checked out at 1pm. We really enjoyed our night in the Gibson Hotel which is clean, bright and very modern but I just think our actual arrival night was just too busy to really enjoy all this lovely hotel has to offer. Hopefully we will have the chance to try it out again sometime.\"]"
      ]
     },
     "execution_count": 3,
     "metadata": {},
     "output_type": "execute_result"
    }
   ],
   "source": [
    "[d for d in gibson_docs]"
   ]
  },
  {
   "cell_type": "code",
   "execution_count": 4,
   "metadata": {
    "collapsed": false,
    "deletable": true,
    "editable": true
   },
   "outputs": [
    {
     "data": {
      "text/plain": [
       "['We decided to meet for dinner in the Gibson Hotel as it is right beside the Arena.',\n",
       " \"My friend and I were attending a show in 3 arena, perfect location, room was so clean and lovely, breakfast was a Buffett but amazing and fresh, stayed a while to enjoy and weren't rushed at all Myself & my partner really enjoyed staying here, it was perfect for going to the 3 Arena, and getting there was great as we didn't have to travel through the whole city, it was just at the end of the tunnel!\",\n",
       " 'We were firstly, amazed at the look and feel of the hotel.',\n",
       " 'We went out for meal the first night, and ate in the hotel on the second night.',\n",
       " 'My husband and I stayed here on Friday 6th November as a 25th anniversary present from family members as we were also treated to an night at Michael McIntyre in the 3 Arena.',\n",
       " 'I had enquired about a late check out until 2pm as there were various cards offering this facility in our room but I was advised that the hotel was too full to offer this but I pleaded and eventually was offered a 1pm check out.',\n",
       " 'We went back into the hotel and tried to find a seat in the huge bar area but it was packed so we wandered around it for awhile and eventually grabbed 2 seats when someone left.']"
      ]
     },
     "execution_count": 4,
     "metadata": {},
     "output_type": "execute_result"
    }
   ],
   "source": [
    "summarize(gibson_docs, continuous=True, sent_limit=7)[0]"
   ]
  },
  {
   "cell_type": "code",
   "execution_count": null,
   "metadata": {
    "collapsed": false,
    "deletable": true,
    "editable": true
   },
   "outputs": [],
   "source": []
  }
 ],
 "metadata": {
  "kernelspec": {
   "display_name": "Python 3",
   "language": "python",
   "name": "python3"
  },
  "language_info": {
   "codemirror_mode": {
    "name": "ipython",
    "version": 3
   },
   "file_extension": ".py",
   "mimetype": "text/x-python",
   "name": "python",
   "nbconvert_exporter": "python",
   "pygments_lexer": "ipython3",
   "version": "3.6.0"
  }
 },
 "nbformat": 4,
 "nbformat_minor": 2
}
