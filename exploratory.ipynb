{
 "cells": [
  {
   "cell_type": "code",
   "execution_count": null,
   "metadata": {
    "collapsed": false
   },
   "outputs": [],
   "source": [
    "import json\n",
    "import sys\n",
    "import os\n",
    "\n",
    "# parent_dir = os.path.abspath(os.getcwd())\n",
    "# vendor_dir = os.path.join(parent_dir, 'vendor')\n",
    "# sys.path.append(vendor_dir)\n",
    "\n",
    "# from tripadvisorCrawler.items import ReviewItem\n",
    "\n",
    "from items import *\n",
    "from dataframe import *\n",
    "\n",
    "import matplotlib\n",
    "import matplotlib.pyplot as plt\n",
    "matplotlib.style.use('ggplot')\n",
    "%matplotlib inline\n",
    "import numpy as np\n",
    "\n",
    "import calendar\n",
    "from ggplot import *"
   ]
  },
  {
   "cell_type": "code",
   "execution_count": null,
   "metadata": {
    "collapsed": false
   },
   "outputs": [],
   "source": [
    "# data open and auto parse\n",
    "\n",
    "with open('data/review_items.jl', 'r') as f:\n",
    "    raw = f.read()\n",
    "\n",
    "reviews = as_dataframe(raw)\n",
    "\n",
    "with open('data/hotel_items.jl','r') as f:\n",
    "    raw = f.read()\n",
    "\n",
    "hotels = as_dataframe(raw)"
   ]
  },
  {
   "cell_type": "code",
   "execution_count": null,
   "metadata": {
    "collapsed": false
   },
   "outputs": [],
   "source": [
    "## show case hotels\n",
    "hotels.head(3)"
   ]
  },
  {
   "cell_type": "code",
   "execution_count": null,
   "metadata": {
    "collapsed": false
   },
   "outputs": [],
   "source": [
    "# number of hotels\n",
    "hotels.shape[0]"
   ]
  },
  {
   "cell_type": "code",
   "execution_count": null,
   "metadata": {
    "collapsed": false,
    "scrolled": true
   },
   "outputs": [],
   "source": [
    "# show case reviews\n",
    "reviews.head(3)"
   ]
  },
  {
   "cell_type": "code",
   "execution_count": null,
   "metadata": {
    "collapsed": false
   },
   "outputs": [],
   "source": [
    "#summary of rating of dublin hotels\n",
    "reviews.ix[:,['rating']].describe()"
   ]
  },
  {
   "cell_type": "code",
   "execution_count": null,
   "metadata": {
    "collapsed": false,
    "scrolled": true
   },
   "outputs": [],
   "source": [
    "# reviews['rating_date'] = pd.to_datetime(reviews['rating_date'], format='%Y-%m-%dT%H:%M:%S')\n",
    "# timeseries = reviews.set_index('rating_date')\n",
    "timeseries = reviews.set_index('timestamp_rating')\n",
    "\n",
    "ts2014 = timeseries['2014-01-01':'2014-12-31'].ix[:,'rating'].resample('M').count()\n",
    "ts2015 = timeseries['2015-01-01':'2015-12-31'].ix[:,'rating'].resample('M').count()\n",
    "ts2016 = timeseries['2016-01-01':'2016-12-31'].ix[:,'rating'].resample('M').count()\n",
    "\n",
    "# months = ['Jan','Feb','Mar','Apr','May','Jun','Jul','Aug','Sep','Oct','Nov','Dec']\n",
    "month_factor = calendar.month_abbr[1:13]\n",
    "year_factor = ['2014','2015','2016']\n",
    "\n",
    "xlabel = 'Month'\n",
    "ylabel = 'Ratings'\n",
    "\n",
    "\n",
    "# df4 = pd.DataFrame({xlabel:ts2014.index, ylabel:ts2014.values})\n",
    "df4 = pd.DataFrame({xlabel:month_factor, ylabel:ts2014.values})\n",
    "df5 = pd.DataFrame({xlabel:month_factor, ylabel:ts2015.values})\n",
    "\n",
    "pad_x3_index = pd.date_range('1/1/2016',periods=12,freq='M')\n",
    "# print(pad_x3_index)\n",
    "ts2016=ts2016.reindex(pad_x3_index).fillna(0)\n",
    "\n",
    "df6 = pd.DataFrame({xlabel:month_factor, ylabel:ts2016.values})\n",
    "\n",
    "# new timestamp series\n",
    "# newts = pd.concat([df1,df2,df3])\n",
    "# newts.set_index(xlabel,inplace=True)\n",
    "\n",
    "# http://stackoverflow.com/questions/37596714/compare-multiple-year-data-on-a-single-plot-python\n",
    "ax4 = df4.plot(x=xlabel,y=ylabel)\n",
    "ax5 = df5.plot(ax=ax4)\n",
    "finalPlot = df6.plot(ax=ax5)\n",
    "finalPlot.legend(['2014','2015','2016'],loc='best')\n",
    "finalPlot.set_ylabel('Number of Ratings')\n",
    "finalPlot.set_xlabel('Months')\n",
    "\n",
    "# http://blog.yhat.com/posts/aggregating-and-plotting-time-series-in-python.html\n",
    "# custom all...\n",
    "\n",
    "\n",
    "months_f = pd.Series(np.tile(month_factor,3)).astype('category')\n",
    "years_f = pd.Series(np.repeat(year_factor,12)).astype('category')\n",
    "\n",
    "# 我快吐血了， 为了这个自定义的plot\n",
    "custom = pd.DataFrame({\n",
    "        'Month':months_f,\n",
    "        'Ratings':np.array([ts2014.values,ts2015.values,ts2016.values]).flatten(),\n",
    "        'Year':years_f\n",
    "    })\n",
    "\n",
    "# ggplot(aes(x = 'Month', y = 'Ratings'), custom) + geom_line()\n",
    "# ggplot(aes(x='Month',y='Ratings',colour='Year'),custom) + geom_line()\n"
   ]
  },
  {
   "cell_type": "code",
   "execution_count": null,
   "metadata": {
    "collapsed": true
   },
   "outputs": [],
   "source": [
    "\n",
    "\n",
    "\n",
    "\n",
    "# newts['Month'] = map(lambda x: cal.month_abbr[x.month], newts.index)\n",
    "# newts['Year'] = map(lambda x: str(x.year), newts.index)\n",
    "# newts['Year'] = newts['Year'].astype('category')\n",
    "\n",
    "# print('before melt: ')\n",
    "# print(newts.head(6))\n",
    "\n",
    "# newts.plot()\n",
    "\n",
    "# df4 = pd.melt(nots, id_vars=['Month','Year'],value_vars=['rating_count'])\n",
    "\n",
    "# print(\"melted: \")\n",
    "# print(type(df4))\n",
    "# print(df4.head(3))\n",
    "\n",
    "# from ggplot import ggplot, ggtitle, geom_line, aes\n",
    "# p1 = ggplot(aes(x=xlabel, y=ylabel), df1) + geom_line()\n",
    "# p2 = ggplot(aes(x=xlabel, y=ylabel), df2) + geom_line()\n",
    "# p3 = ggplot(aes(x=xlabel, y=ylabel), df3) + geom_line()\n",
    "\n",
    "# p1.show()\n",
    "# p2.show()\n",
    "# p3.show()\n",
    "\n",
    "# ggplot(aes(x='Month', y='rating_count',colour='Year'),nots)+geom_line() + ggtitle(\"Monthly Rating Count for last 2 years\")"
   ]
  },
  {
   "cell_type": "code",
   "execution_count": null,
   "metadata": {
    "collapsed": false,
    "scrolled": true
   },
   "outputs": [],
   "source": [
    "reviewByHotels = reviews.groupby('item_id')"
   ]
  },
  {
   "cell_type": "code",
   "execution_count": null,
   "metadata": {
    "collapsed": false,
    "scrolled": true
   },
   "outputs": [],
   "source": [
    "import pandas as pd\n",
    "for hotel_url, group in reviewByHotels:\n",
    "    subset = group.ix[:,['timestamp_rating', 'rating']]\n",
    "    summary = subset.ix[:,'rating'].describe()\n",
    "#     print(summary)\n",
    "#     subset['rating_date'] = pd.to_datetime(subset['rating_date'], format='%Y-%m-%dT%H:%M:%S')\n",
    "    subset.set_index('timestamp_rating',inplace=True)\n",
    "    ## Do my own thing: input is subset of rating with timestamp index. output is bin\n",
    "    ## count for last 2 years of rating on a weekly span.\n",
    "    \n",
    "    \n",
    "    \n",
    "    \n",
    "    \n",
    "#     print(subset.resample('AS').count()) # annual start\n",
    "#     last2years = pd.date_range('2014-01-01','2016-09-01')\n",
    "#     last2years = pd.period_range('2014','2016')\n",
    "#     print(last2years)\n",
    "#     weeklyCount = subset['2014-01-01':'2016-09-01'].resample('AS').count()\n",
    "    print(subset['2014-01-01':'2016-09-01'].resample('AS').count())\n",
    "#     print(weeklyCount)\n",
    "#     print(subset[\"2014-01-01\":\"2016-09-01\"])\n",
    "        \n"
   ]
  },
  {
   "cell_type": "code",
   "execution_count": null,
   "metadata": {
    "collapsed": true
   },
   "outputs": [],
   "source": []
  }
 ],
 "metadata": {
  "celltoolbar": "Edit Metadata",
  "kernelspec": {
   "display_name": "Python 2",
   "language": "python",
   "name": "python2"
  },
  "language_info": {
   "codemirror_mode": {
    "name": "ipython",
    "version": 2
   },
   "file_extension": ".py",
   "mimetype": "text/x-python",
   "name": "python",
   "nbconvert_exporter": "python",
   "pygments_lexer": "ipython2",
   "version": "2.7.12"
  }
 },
 "nbformat": 4,
 "nbformat_minor": 1
}
