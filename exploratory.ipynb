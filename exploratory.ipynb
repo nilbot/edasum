{
 "cells": [
  {
   "cell_type": "code",
   "execution_count": 7,
   "metadata": {
    "collapsed": false
   },
   "outputs": [
    {
     "data": {
      "text/html": [
       "<div>\n",
       "<table border=\"1\" class=\"dataframe\">\n",
       "  <thead>\n",
       "    <tr style=\"text-align: right;\">\n",
       "      <th></th>\n",
       "      <th>batch_id</th>\n",
       "      <th>rating</th>\n",
       "      <th>rating_percentage</th>\n",
       "    </tr>\n",
       "  </thead>\n",
       "  <tbody>\n",
       "    <tr>\n",
       "      <th>count</th>\n",
       "      <td>1.311640e+05</td>\n",
       "      <td>131164.000000</td>\n",
       "      <td>131164.000000</td>\n",
       "    </tr>\n",
       "    <tr>\n",
       "      <th>mean</th>\n",
       "      <td>2.016091e+13</td>\n",
       "      <td>4.103809</td>\n",
       "      <td>0.775952</td>\n",
       "    </tr>\n",
       "    <tr>\n",
       "      <th>std</th>\n",
       "      <td>0.000000e+00</td>\n",
       "      <td>1.072711</td>\n",
       "      <td>0.268178</td>\n",
       "    </tr>\n",
       "    <tr>\n",
       "      <th>min</th>\n",
       "      <td>2.016091e+13</td>\n",
       "      <td>1.000000</td>\n",
       "      <td>0.000000</td>\n",
       "    </tr>\n",
       "    <tr>\n",
       "      <th>25%</th>\n",
       "      <td>2.016091e+13</td>\n",
       "      <td>4.000000</td>\n",
       "      <td>0.750000</td>\n",
       "    </tr>\n",
       "    <tr>\n",
       "      <th>50%</th>\n",
       "      <td>2.016091e+13</td>\n",
       "      <td>4.000000</td>\n",
       "      <td>0.750000</td>\n",
       "    </tr>\n",
       "    <tr>\n",
       "      <th>75%</th>\n",
       "      <td>2.016091e+13</td>\n",
       "      <td>5.000000</td>\n",
       "      <td>1.000000</td>\n",
       "    </tr>\n",
       "    <tr>\n",
       "      <th>max</th>\n",
       "      <td>2.016091e+13</td>\n",
       "      <td>5.000000</td>\n",
       "      <td>1.000000</td>\n",
       "    </tr>\n",
       "  </tbody>\n",
       "</table>\n",
       "</div>"
      ],
      "text/plain": [
       "           batch_id         rating  rating_percentage\n",
       "count  1.311640e+05  131164.000000      131164.000000\n",
       "mean   2.016091e+13       4.103809           0.775952\n",
       "std    0.000000e+00       1.072711           0.268178\n",
       "min    2.016091e+13       1.000000           0.000000\n",
       "25%    2.016091e+13       4.000000           0.750000\n",
       "50%    2.016091e+13       4.000000           0.750000\n",
       "75%    2.016091e+13       5.000000           1.000000\n",
       "max    2.016091e+13       5.000000           1.000000"
      ]
     },
     "execution_count": 7,
     "metadata": {},
     "output_type": "execute_result"
    }
   ],
   "source": [
    "import json\n",
    "import sys\n",
    "import os\n",
    "\n",
    "# parent_dir = os.path.abspath(os.getcwd())\n",
    "# vendor_dir = os.path.join(parent_dir, 'vendor')\n",
    "# sys.path.append(vendor_dir)\n",
    "\n",
    "# from tripadvisorCrawler.items import ReviewItem\n",
    "\n",
    "from items import *\n",
    "from dataframe import *\n",
    "    \n",
    "import matplotlib.pyplot as plt\n",
    "import numpy as np\n",
    "\n",
    "with open('data/do.september.11/review_items.jl', 'r') as f:\n",
    "    raw = f.read()\n",
    "\n",
    "reviews = as_dataframe(raw)\n",
    "\n",
    "with open('data/do.september.11/hotel_items.jl','r') as f:\n",
    "    raw = f.read()\n",
    "\n",
    "hotels = as_dataframe(raw)"
   ]
  },
  {
   "cell_type": "code",
   "execution_count": 8,
   "metadata": {
    "collapsed": false
   },
   "outputs": [
    {
     "data": {
      "text/html": [
       "<div>\n",
       "<table border=\"1\" class=\"dataframe\">\n",
       "  <thead>\n",
       "    <tr style=\"text-align: right;\">\n",
       "      <th></th>\n",
       "      <th>batch_id</th>\n",
       "      <th>description</th>\n",
       "      <th>item_id</th>\n",
       "      <th>item_title</th>\n",
       "      <th>site_name</th>\n",
       "      <th>url</th>\n",
       "    </tr>\n",
       "  </thead>\n",
       "  <tbody>\n",
       "    <tr>\n",
       "      <th>0</th>\n",
       "      <td>20160910101527</td>\n",
       "      <td>Aberdeen Lodge, Dublin: See 447 traveller revi...</td>\n",
       "      <td>https://www.tripadvisor.ie/Hotel_Review-g18660...</td>\n",
       "      <td>\\nAberdeen Lodge\\n</td>\n",
       "      <td>TripAdvisor</td>\n",
       "      <td>https://www.tripadvisor.ie/Hotel_Review-g18660...</td>\n",
       "    </tr>\n",
       "    <tr>\n",
       "      <th>1</th>\n",
       "      <td>20160910101527</td>\n",
       "      <td>Brooks Hotel, Dublin: See 1,881 traveller revi...</td>\n",
       "      <td>https://www.tripadvisor.ie/Hotel_Review-g18660...</td>\n",
       "      <td>\\nBrooks Hotel\\n</td>\n",
       "      <td>TripAdvisor</td>\n",
       "      <td>https://www.tripadvisor.ie/Hotel_Review-g18660...</td>\n",
       "    </tr>\n",
       "    <tr>\n",
       "      <th>2</th>\n",
       "      <td>20160910101527</td>\n",
       "      <td>The Marker Hotel, Dublin: See 1,990 traveller ...</td>\n",
       "      <td>https://www.tripadvisor.ie/Hotel_Review-g18660...</td>\n",
       "      <td>\\nThe Marker Hotel\\n</td>\n",
       "      <td>TripAdvisor</td>\n",
       "      <td>https://www.tripadvisor.ie/Hotel_Review-g18660...</td>\n",
       "    </tr>\n",
       "  </tbody>\n",
       "</table>\n",
       "</div>"
      ],
      "text/plain": [
       "         batch_id                                        description  \\\n",
       "0  20160910101527  Aberdeen Lodge, Dublin: See 447 traveller revi...   \n",
       "1  20160910101527  Brooks Hotel, Dublin: See 1,881 traveller revi...   \n",
       "2  20160910101527  The Marker Hotel, Dublin: See 1,990 traveller ...   \n",
       "\n",
       "                                             item_id            item_title  \\\n",
       "0  https://www.tripadvisor.ie/Hotel_Review-g18660...    \\nAberdeen Lodge\\n   \n",
       "1  https://www.tripadvisor.ie/Hotel_Review-g18660...      \\nBrooks Hotel\\n   \n",
       "2  https://www.tripadvisor.ie/Hotel_Review-g18660...  \\nThe Marker Hotel\\n   \n",
       "\n",
       "     site_name                                                url  \n",
       "0  TripAdvisor  https://www.tripadvisor.ie/Hotel_Review-g18660...  \n",
       "1  TripAdvisor  https://www.tripadvisor.ie/Hotel_Review-g18660...  \n",
       "2  TripAdvisor  https://www.tripadvisor.ie/Hotel_Review-g18660...  "
      ]
     },
     "execution_count": 8,
     "metadata": {},
     "output_type": "execute_result"
    }
   ],
   "source": [
    "## show case hotels\n",
    "hotels.head(3)"
   ]
  },
  {
   "cell_type": "code",
   "execution_count": 17,
   "metadata": {
    "collapsed": false
   },
   "outputs": [
    {
     "data": {
      "text/plain": [
       "157"
      ]
     },
     "execution_count": 17,
     "metadata": {},
     "output_type": "execute_result"
    }
   ],
   "source": [
    "# number of hotels\n",
    "hotels.shape[0]"
   ]
  },
  {
   "cell_type": "code",
   "execution_count": 23,
   "metadata": {
    "collapsed": false
   },
   "outputs": [
    {
     "data": {
      "text/html": [
       "<div>\n",
       "<table border=\"1\" class=\"dataframe\">\n",
       "  <thead>\n",
       "    <tr style=\"text-align: right;\">\n",
       "      <th></th>\n",
       "      <th>batch_id</th>\n",
       "      <th>item_id</th>\n",
       "      <th>rating</th>\n",
       "      <th>rating_date</th>\n",
       "      <th>rating_percentage</th>\n",
       "      <th>review_id</th>\n",
       "      <th>review_text</th>\n",
       "      <th>review_title</th>\n",
       "      <th>site_name</th>\n",
       "      <th>url</th>\n",
       "      <th>user_id</th>\n",
       "    </tr>\n",
       "  </thead>\n",
       "  <tbody>\n",
       "    <tr>\n",
       "      <th>0</th>\n",
       "      <td>20160910101527</td>\n",
       "      <td>https://www.tripadvisor.ie/Hotel_Review-g18660...</td>\n",
       "      <td>4</td>\n",
       "      <td>2016-08-19T00:00:00</td>\n",
       "      <td>0.75</td>\n",
       "      <td>review_407555899</td>\n",
       "      <td>\\nThis is a great location in the city center ...</td>\n",
       "      <td>“Great location”</td>\n",
       "      <td>TripAdvisor</td>\n",
       "      <td>https://www.tripadvisor.ie//ShowUserReviews-g1...</td>\n",
       "      <td>AFCA46113E11EB6873AEF28114293CFF</td>\n",
       "    </tr>\n",
       "    <tr>\n",
       "      <th>1</th>\n",
       "      <td>20160910101527</td>\n",
       "      <td>https://www.tripadvisor.ie/Hotel_Review-g18660...</td>\n",
       "      <td>3</td>\n",
       "      <td>2016-08-23T00:00:00</td>\n",
       "      <td>0.50</td>\n",
       "      <td>review_409466696</td>\n",
       "      <td>\\nHotel needs updating, bit shabby, looks bett...</td>\n",
       "      <td>“Would not rate this hotel as 4*”</td>\n",
       "      <td>TripAdvisor</td>\n",
       "      <td>https://www.tripadvisor.ie//ShowUserReviews-g1...</td>\n",
       "      <td>DAA7F593FFF32A4DA781959545562C71</td>\n",
       "    </tr>\n",
       "    <tr>\n",
       "      <th>2</th>\n",
       "      <td>20160910101527</td>\n",
       "      <td>https://www.tripadvisor.ie/Hotel_Review-g18660...</td>\n",
       "      <td>5</td>\n",
       "      <td>2016-08-25T00:00:00</td>\n",
       "      <td>1.00</td>\n",
       "      <td>review_410673972</td>\n",
       "      <td>\\nMy husband and I were absolutely delighted w...</td>\n",
       "      <td>“the perfect place to stay in Dublin”</td>\n",
       "      <td>TripAdvisor</td>\n",
       "      <td>https://www.tripadvisor.ie//ShowUserReviews-g1...</td>\n",
       "      <td>5F0155A0A1DE2564C8195A07E024DF5B</td>\n",
       "    </tr>\n",
       "  </tbody>\n",
       "</table>\n",
       "</div>"
      ],
      "text/plain": [
       "         batch_id                                            item_id  rating  \\\n",
       "0  20160910101527  https://www.tripadvisor.ie/Hotel_Review-g18660...       4   \n",
       "1  20160910101527  https://www.tripadvisor.ie/Hotel_Review-g18660...       3   \n",
       "2  20160910101527  https://www.tripadvisor.ie/Hotel_Review-g18660...       5   \n",
       "\n",
       "           rating_date  rating_percentage         review_id  \\\n",
       "0  2016-08-19T00:00:00               0.75  review_407555899   \n",
       "1  2016-08-23T00:00:00               0.50  review_409466696   \n",
       "2  2016-08-25T00:00:00               1.00  review_410673972   \n",
       "\n",
       "                                         review_text  \\\n",
       "0  \\nThis is a great location in the city center ...   \n",
       "1  \\nHotel needs updating, bit shabby, looks bett...   \n",
       "2  \\nMy husband and I were absolutely delighted w...   \n",
       "\n",
       "                            review_title    site_name  \\\n",
       "0                       “Great location”  TripAdvisor   \n",
       "1      “Would not rate this hotel as 4*”  TripAdvisor   \n",
       "2  “the perfect place to stay in Dublin”  TripAdvisor   \n",
       "\n",
       "                                                 url  \\\n",
       "0  https://www.tripadvisor.ie//ShowUserReviews-g1...   \n",
       "1  https://www.tripadvisor.ie//ShowUserReviews-g1...   \n",
       "2  https://www.tripadvisor.ie//ShowUserReviews-g1...   \n",
       "\n",
       "                            user_id  \n",
       "0  AFCA46113E11EB6873AEF28114293CFF  \n",
       "1  DAA7F593FFF32A4DA781959545562C71  \n",
       "2  5F0155A0A1DE2564C8195A07E024DF5B  "
      ]
     },
     "execution_count": 23,
     "metadata": {},
     "output_type": "execute_result"
    }
   ],
   "source": [
    "# show case reviews\n",
    "reviews.head(3)"
   ]
  },
  {
   "cell_type": "code",
   "execution_count": 22,
   "metadata": {
    "collapsed": false
   },
   "outputs": [
    {
     "data": {
      "text/html": [
       "<div>\n",
       "<table border=\"1\" class=\"dataframe\">\n",
       "  <thead>\n",
       "    <tr style=\"text-align: right;\">\n",
       "      <th></th>\n",
       "      <th>rating</th>\n",
       "    </tr>\n",
       "  </thead>\n",
       "  <tbody>\n",
       "    <tr>\n",
       "      <th>count</th>\n",
       "      <td>131164.000000</td>\n",
       "    </tr>\n",
       "    <tr>\n",
       "      <th>mean</th>\n",
       "      <td>4.103809</td>\n",
       "    </tr>\n",
       "    <tr>\n",
       "      <th>std</th>\n",
       "      <td>1.072711</td>\n",
       "    </tr>\n",
       "    <tr>\n",
       "      <th>min</th>\n",
       "      <td>1.000000</td>\n",
       "    </tr>\n",
       "    <tr>\n",
       "      <th>25%</th>\n",
       "      <td>4.000000</td>\n",
       "    </tr>\n",
       "    <tr>\n",
       "      <th>50%</th>\n",
       "      <td>4.000000</td>\n",
       "    </tr>\n",
       "    <tr>\n",
       "      <th>75%</th>\n",
       "      <td>5.000000</td>\n",
       "    </tr>\n",
       "    <tr>\n",
       "      <th>max</th>\n",
       "      <td>5.000000</td>\n",
       "    </tr>\n",
       "  </tbody>\n",
       "</table>\n",
       "</div>"
      ],
      "text/plain": [
       "              rating\n",
       "count  131164.000000\n",
       "mean        4.103809\n",
       "std         1.072711\n",
       "min         1.000000\n",
       "25%         4.000000\n",
       "50%         4.000000\n",
       "75%         5.000000\n",
       "max         5.000000"
      ]
     },
     "execution_count": 22,
     "metadata": {},
     "output_type": "execute_result"
    }
   ],
   "source": [
    "#summary of rating of dublin hotels\n",
    "reviews.ix[:,['rating']].describe()"
   ]
  },
  {
   "cell_type": "code",
   "execution_count": null,
   "metadata": {
    "collapsed": true
   },
   "outputs": [],
   "source": []
  }
 ],
 "metadata": {
  "celltoolbar": "Edit Metadata",
  "kernelspec": {
   "display_name": "Python 2",
   "language": "python",
   "name": "python2"
  },
  "language_info": {
   "codemirror_mode": {
    "name": "ipython",
    "version": 2
   },
   "file_extension": ".py",
   "mimetype": "text/x-python",
   "name": "python",
   "nbconvert_exporter": "python",
   "pygments_lexer": "ipython2",
   "version": "2.7.12"
  }
 },
 "nbformat": 4,
 "nbformat_minor": 1
}
