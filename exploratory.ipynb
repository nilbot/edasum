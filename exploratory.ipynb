{
 "cells": [
  {
   "cell_type": "code",
   "execution_count": 27,
   "metadata": {
    "collapsed": false
   },
   "outputs": [
    {
     "name": "stdout",
     "output_type": "stream",
     "text": [
      "total 131164 reviews. \n"
     ]
    }
   ],
   "source": [
    "import json\n",
    "import sys\n",
    "import os\n",
    "\n",
    "# parent_dir = os.path.abspath(os.getcwd())\n",
    "# vendor_dir = os.path.join(parent_dir, 'vendor')\n",
    "# sys.path.append(vendor_dir)\n",
    "\n",
    "# from tripadvisorCrawler.items import ReviewItem\n",
    "class ReviewItem:\n",
    "    def __init__(self, user_id, item_id, review_id, review_title, rating, rating_perc, rating_date, review_text, site_name, url, batch_id):\n",
    "        self.user_id = user_id\n",
    "        self.item_id = item_id\n",
    "        self.review_id = review_id\n",
    "        self.review_title = review_title\n",
    "        self.rating = rating\n",
    "        self.rating_perc = rating_perc\n",
    "        self.rating_date = rating_date\n",
    "        self.review_text = review_text\n",
    "        self.site_name = site_name\n",
    "        self.url = url\n",
    "        self.batch_id = batch_id\n",
    "\n",
    "def as_review(dct):\n",
    "    if 'user_id' in dct and \\\n",
    "    'item_id' in dct and \\\n",
    "    'review_id' in dct and \\\n",
    "    'review_title' in dct and \\\n",
    "    'rating' in dct and \\\n",
    "    'rating_percentage' in dct and \\\n",
    "    'rating_date' in dct and \\\n",
    "    'review_text' in dct and \\\n",
    "    'site_name' in dct and \\\n",
    "    'url' in dct and \\\n",
    "    'batch_id' in dct:\n",
    "        return ReviewItem(dct['user_id'],\n",
    "                         dct['item_id'],\n",
    "                         dct['review_id'],\n",
    "                         dct['review_title'],\n",
    "                         dct['rating'],\n",
    "                         dct['rating_percentage'],\n",
    "                         dct['rating_date'],\n",
    "                         dct['review_text'],\n",
    "                         dct['site_name'],\n",
    "                         dct['url'],\n",
    "                         dct['batch_id'])\n",
    "    else:\n",
    "        return dct\n",
    "\n",
    "with open('data/do.september.11/review_items.jl', 'r') as f:\n",
    "    arr = [json.loads(line, object_hook=as_review) for line in f.readlines()]\n",
    "    print(\"total %d reviews. \" % len(arr))\n"
   ]
  },
  {
   "cell_type": "code",
   "execution_count": null,
   "metadata": {
    "collapsed": true
   },
   "outputs": [],
   "source": []
  }
 ],
 "metadata": {
  "kernelspec": {
   "display_name": "Python 2",
   "language": "python",
   "name": "python2"
  },
  "language_info": {
   "codemirror_mode": {
    "name": "ipython",
    "version": 2
   },
   "file_extension": ".py",
   "mimetype": "text/x-python",
   "name": "python",
   "nbconvert_exporter": "python",
   "pygments_lexer": "ipython2",
   "version": "2.7.12"
  }
 },
 "nbformat": 4,
 "nbformat_minor": 1
}
