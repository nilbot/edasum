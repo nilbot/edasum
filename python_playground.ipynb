{
 "cells": [
  {
   "cell_type": "code",
   "execution_count": 34,
   "metadata": {
    "collapsed": false
   },
   "outputs": [
    {
     "name": "stdout",
     "output_type": "stream",
     "text": [
      "cork\n"
     ]
    }
   ],
   "source": [
    "base = \"https://www.tripadvisor.ie\"\n",
    "url = \"https://www.tripadvisor.ie/Hotels-g186600-Cork_County_Cork-Hotels.html\"\n",
    "target = \"cork\"\n",
    "import re\n",
    "\n",
    "found = re.search(base+'/\\w+-g\\d+-(?P<city>[a-z]+)_.*',url.lower())\n",
    "print(found.group('city'))\n"
   ]
  },
  {
   "cell_type": "code",
   "execution_count": 37,
   "metadata": {
    "collapsed": false
   },
   "outputs": [
    {
     "name": "stdout",
     "output_type": "stream",
     "text": [
      "cork\n"
     ]
    }
   ],
   "source": [
    "url2 = \"https://www.tripadvisor.ie/hotel_review-g186600-d654085-reviews-the_east_village-cork_county_cork.html\"\n",
    "found = re.search(base+'/.*-(?P<city>[a-z]+)_.*\\.html', url2.lower())\n",
    "print(found.group('city'))"
   ]
  }
 ],
 "metadata": {
  "kernelspec": {
   "display_name": "Python 2",
   "language": "python",
   "name": "python2"
  },
  "language_info": {
   "codemirror_mode": {
    "name": "ipython",
    "version": 2
   },
   "file_extension": ".py",
   "mimetype": "text/x-python",
   "name": "python",
   "nbconvert_exporter": "python",
   "pygments_lexer": "ipython2",
   "version": "2.7.12"
  }
 },
 "nbformat": 4,
 "nbformat_minor": 1
}
