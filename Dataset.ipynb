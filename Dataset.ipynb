{
 "cells": [
  {
   "cell_type": "code",
   "execution_count": 1,
   "metadata": {
    "collapsed": false,
    "deletable": true,
    "editable": true
   },
   "outputs": [],
   "source": [
    "from __future__ import absolute_import\n",
    "from __future__ import division, print_function, unicode_literals\n",
    "\n",
    "import sys\n",
    "import os\n",
    "import pandas as pd\n",
    "\n",
    "from sumy.parsers.plaintext import PlaintextParser\n",
    "from sumy.nlp.tokenizers import Tokenizer\n",
    "from sumy.summarizers.lex_rank import LexRankSummarizer as Summarizer\n",
    "from sumy.nlp.stemmers import Stemmer\n",
    "from sumy.utils import get_stop_words\n",
    "\n",
    "\n",
    "from items import *\n",
    "from dataframe import *\n",
    "from chronos import *\n",
    "\n",
    "import matplotlib\n",
    "import matplotlib.pyplot as plt\n",
    "matplotlib.style.use('ggplot')\n",
    "%matplotlib inline\n",
    "import numpy as np\n",
    "\n",
    "import calendar\n",
    "from ggplot import *\n",
    "\n",
    "import re"
   ]
  },
  {
   "cell_type": "code",
   "execution_count": 2,
   "metadata": {
    "collapsed": false,
    "deletable": true,
    "editable": true
   },
   "outputs": [],
   "source": [
    "# data open and auto parse\n",
    "\n",
    "normalisation_dict = {'unknown':-1}\n",
    "\n",
    "with open('data/review_items.jl', 'r') as f:\n",
    "    raw = f.read()\n",
    "\n",
    "\n",
    "normalised_raw = \"\\n\".join([ re.sub(r'([0-9]{4}-[0-9]{2}-[0-9]{2})T[0-9]{2}:[0-9]{2}:[0-9]{2}', r'\\1', line)\n",
    "for line in raw.splitlines() ])\n",
    "    \n",
    "reviews = as_dataframe(normalised_raw)\n",
    "reviews['timestamp_rating'] = pd.to_datetime(reviews['timestamp_rating'], format=\"%Y-%m-%d\", errors='coerce')\n",
    "reviews['rating'] = pd.to_numeric(reviews['rating'].replace(normalisation_dict), errors='coerce')\n",
    "reviews['rating_percentage'] = pd.to_numeric(reviews['rating_percentage'].replace(normalisation_dict), errors='coerce')\n",
    "with open('data/hotel_items.jl','r') as f:\n",
    "    raw = f.read()\n",
    "\n",
    "    \n",
    "hotels = as_dataframe(raw)"
   ]
  },
  {
   "cell_type": "code",
   "execution_count": 3,
   "metadata": {
    "collapsed": false,
    "deletable": true,
    "editable": true
   },
   "outputs": [
    {
     "data": {
      "text/plain": [
       "['batch_id',\n",
       " 'city',\n",
       " 'description',\n",
       " 'item_id',\n",
       " 'item_title',\n",
       " 'num_rooms',\n",
       " 'recommendation_list',\n",
       " 'site_name',\n",
       " 'url']"
      ]
     },
     "execution_count": 3,
     "metadata": {},
     "output_type": "execute_result"
    }
   ],
   "source": [
    "list(hotels.columns.values)"
   ]
  },
  {
   "cell_type": "code",
   "execution_count": 4,
   "metadata": {
    "collapsed": false,
    "deletable": true,
    "editable": true
   },
   "outputs": [
    {
     "data": {
      "text/plain": [
       "['<div class=\"propertyLink\" onclick=\"(ta.prwidgets.getjs(this,\\'handlers\\')).click(\\'/Hotel_Review-g186609-d498425-Reviews-Park_House_Hotel-Galway_County_Galway_Western_Ireland.html\\', \\'HotelName\\', true);(new Event(event)).stopPropagation();\">Park House Hotel</div>',\n",
       " '<div class=\"propertyLink\" onclick=\"(ta.prwidgets.getjs(this,\\'handlers\\')).click(\\'/Hotel_Review-g186609-d214568-Reviews-Galway_Bay_Hotel-Galway_County_Galway_Western_Ireland.html\\', \\'HotelName\\', true);(new Event(event)).stopPropagation();\">Galway Bay Hotel</div>',\n",
       " '<div class=\"propertyLink\" onclick=\"(ta.prwidgets.getjs(this,\\'handlers\\')).click(\\'/Hotel_Review-g186609-d226394-Reviews-Radisson_Blu_Hotel_Spa_Galway-Galway_County_Galway_Western_Ireland.html\\', \\'HotelName\\', true);(new Event(event)).stopPropagation();\">Radisson Blu Hotel &amp; Spa, Galway</div>']"
      ]
     },
     "execution_count": 4,
     "metadata": {},
     "output_type": "execute_result"
    }
   ],
   "source": [
    "hotels.recommendation_list[0]"
   ]
  },
  {
   "cell_type": "code",
   "execution_count": 5,
   "metadata": {
    "collapsed": false,
    "deletable": true,
    "editable": true
   },
   "outputs": [
    {
     "name": "stdout",
     "output_type": "stream",
     "text": [
      "Hotel_Review-g186609-d498425-Reviews-Park_House_Hotel-Galway_County_Galway_Western_Ireland\n",
      "1\n"
     ]
    }
   ],
   "source": [
    "pat = r\"(?P<id>Hotel[\\w_-]+)\\.html\"\n",
    "origin = hotels.recommendation_list[0][0]\n",
    "import re\n",
    "\n",
    "m = re.search(pat, origin)\n",
    "print(m.group('id'))\n",
    "\n",
    "prog = re.compile(pat)\n",
    "\n",
    "res = prog.findall(origin)\n",
    "print(len(res))\n",
    "\n",
    "count = 0\n",
    "for lst in hotels.recommendation_list:\n",
    "    for strs in lst:\n",
    "        if (len(prog.findall(strs)) != 1):\n",
    "            print('Error')\n",
    "        else:\n",
    "            count+=1\n",
    "if (count != (len(hotels.recommendation_list)*3)):\n",
    "    print('Error')\n",
    "\n",
    "# test complete"
   ]
  },
  {
   "cell_type": "code",
   "execution_count": 6,
   "metadata": {
    "collapsed": false,
    "deletable": true,
    "editable": true
   },
   "outputs": [
    {
     "name": "stdout",
     "output_type": "stream",
     "text": [
      "['batch_id', 'city', 'description', 'item_id', 'item_title', 'num_rooms', 'recommendation_list', 'site_name', 'url', 'recommend_1', 'recommend_2', 'recommend_3']\n"
     ]
    },
    {
     "data": {
      "text/plain": [
       "['batch_id',\n",
       " 'city',\n",
       " 'description',\n",
       " 'item_id',\n",
       " 'item_title',\n",
       " 'num_rooms',\n",
       " 'site_name',\n",
       " 'url',\n",
       " 'recommend_1',\n",
       " 'recommend_2',\n",
       " 'recommend_3']"
      ]
     },
     "execution_count": 6,
     "metadata": {},
     "output_type": "execute_result"
    }
   ],
   "source": [
    "#production\n",
    "pat = r\"(?P<id>Hotel[\\w_-]+)\\.html\" # hotel id pattern\n",
    "\n",
    "prog = re.compile(pat)\n",
    "\n",
    "recommend_1 = []\n",
    "recommend_2 = []\n",
    "recommend_3 = []\n",
    "for ind, hotel in hotels.iterrows():\n",
    "    host_id = hotel.item_id\n",
    "    recommend_list = hotel['recommendation_list']\n",
    "    recommended = []\n",
    "    i = 0\n",
    "    for recommend in recommend_list:\n",
    "        recommended.append(prog.findall(recommend)[0])\n",
    "        i += 1\n",
    "    recommend_1.append(recommended[0])\n",
    "    recommend_2.append(recommended[1])\n",
    "    recommend_3.append(recommended[2])\n",
    "\n",
    "# print(len(recommend_1))\n",
    "# print(len(recommend_2))\n",
    "# print(len(recommend_3))\n",
    "\n",
    "hotels['recommend_1'] = recommend_1\n",
    "hotels['recommend_2'] = recommend_1\n",
    "hotels['recommend_3'] = recommend_1\n",
    "\n",
    "# test\n",
    "print(list(hotels.columns.values))\n",
    "\n",
    "# clean\n",
    "cleaned_hotels = hotels.drop('recommendation_list', axis=1)\n",
    "\n",
    "# test\n",
    "list(cleaned_hotels.columns.values)"
   ]
  },
  {
   "cell_type": "code",
   "execution_count": 7,
   "metadata": {
    "collapsed": true,
    "deletable": true,
    "editable": true
   },
   "outputs": [],
   "source": [
    "reviewts = reviews.set_index('timestamp_rating')"
   ]
  },
  {
   "cell_type": "code",
   "execution_count": 8,
   "metadata": {
    "collapsed": false,
    "deletable": true,
    "editable": true
   },
   "outputs": [
    {
     "data": {
      "text/plain": [
       "['batch_id',\n",
       " 'item_id',\n",
       " 'rating',\n",
       " 'rating_percentage',\n",
       " 'review_id',\n",
       " 'review_title',\n",
       " 'site_name',\n",
       " 'url',\n",
       " 'user_id']"
      ]
     },
     "execution_count": 8,
     "metadata": {},
     "output_type": "execute_result"
    }
   ],
   "source": [
    "review_meta = reviewts.drop('review_text', axis=1)\n",
    "list(review_meta.columns.values)"
   ]
  },
  {
   "cell_type": "code",
   "execution_count": 9,
   "metadata": {
    "collapsed": true,
    "deletable": true,
    "editable": true
   },
   "outputs": [],
   "source": [
    "review_text_array = reviewts[:]['review_text'].values\n",
    "review_ids = reviewts[:]['review_id'].values"
   ]
  },
  {
   "cell_type": "code",
   "execution_count": 10,
   "metadata": {
    "collapsed": false,
    "deletable": true,
    "editable": true
   },
   "outputs": [],
   "source": [
    "for i,document in enumerate(review_text_array):\n",
    "    review_text_array[i] = re.sub(u\"\\n\",\"\",document)"
   ]
  },
  {
   "cell_type": "code",
   "execution_count": 11,
   "metadata": {
    "collapsed": false,
    "deletable": true,
    "editable": true
   },
   "outputs": [
    {
     "data": {
      "text/plain": [
       "'We stayed here one night but the staff were super helpful. Very Nice and great view of the Bay, 10 min drive to the center of town. The pub in the hotel was really nice and the staff very courteous and polite. Would definitely like to go back for a longer stay.'"
      ]
     },
     "execution_count": 11,
     "metadata": {},
     "output_type": "execute_result"
    }
   ],
   "source": [
    "review_text_array[3]"
   ]
  },
  {
   "cell_type": "code",
   "execution_count": 12,
   "metadata": {
    "collapsed": false,
    "deletable": true,
    "editable": true
   },
   "outputs": [],
   "source": [
    "# makedirs python>=3.2\n",
    "# os.makedirs('dataset/review', exist_ok=True)\n",
    "os.makedirs('dataset/review_meta', exist_ok=True)\n",
    "os.makedirs('dataset/hotel', exist_ok=True)\n",
    "# os.makedirs('dataset/hotel_meta', exist_ok=True)\n",
    "os.makedirs('dataset/text/documents/raw', exist_ok=True)\n",
    "# os.makedirs('dataset/text/sentences', exist_ok=True)\n",
    "\n"
   ]
  },
  {
   "cell_type": "code",
   "execution_count": 13,
   "metadata": {
    "collapsed": false,
    "deletable": true,
    "editable": true
   },
   "outputs": [],
   "source": [
    "# clean existing dataset\n",
    "\n",
    "import os, shutil\n",
    "folders = ['dataset/review_meta','dataset/hotel','dataset/text/documents']\n",
    "for folder in folders:\n",
    "    for the_file in os.listdir(folder):\n",
    "        file_path = os.path.join(folder, the_file)\n",
    "        try:\n",
    "            if os.path.isfile(file_path):\n",
    "                os.unlink(file_path)\n",
    "            #elif os.path.isdir(file_path): shutil.rmtree(file_path)\n",
    "        except Exception as e:\n",
    "            print(e)"
   ]
  },
  {
   "cell_type": "code",
   "execution_count": 14,
   "metadata": {
    "collapsed": true,
    "deletable": true,
    "editable": true
   },
   "outputs": [],
   "source": [
    "cleaned_hotels.to_csv('dataset/hotel/hotels.csv')"
   ]
  },
  {
   "cell_type": "code",
   "execution_count": 15,
   "metadata": {
    "collapsed": true,
    "deletable": true,
    "editable": true
   },
   "outputs": [],
   "source": [
    "review_meta.to_csv('dataset/review_meta/review_meta.csv')"
   ]
  },
  {
   "cell_type": "code",
   "execution_count": 16,
   "metadata": {
    "collapsed": false,
    "deletable": true,
    "editable": true
   },
   "outputs": [],
   "source": [
    "import tarfile\n",
    "\n",
    "compressed = \"dataset/text/documents/compressed.tgz\"\n",
    "tar = tarfile.open(compressed, \"w:gz\")\n",
    "\n",
    "for i,document in enumerate(review_text_array):\n",
    "    filename = \"dataset/text/documents/raw/{0}.txt\".format(review_ids[i])\n",
    "    with open(filename,\"w\") as f:\n",
    "        f.write(document)\n",
    "    tar.add(filename)\n",
    "\n",
    "tar.close()"
   ]
  }
 ],
 "metadata": {
  "celltoolbar": "Edit Metadata",
  "kernelspec": {
   "display_name": "Python 3",
   "language": "python",
   "name": "python3"
  },
  "language_info": {
   "codemirror_mode": {
    "name": "ipython",
    "version": 3
   },
   "file_extension": ".py",
   "mimetype": "text/x-python",
   "name": "python",
   "nbconvert_exporter": "python",
   "pygments_lexer": "ipython3",
   "version": "3.6.0"
  }
 },
 "nbformat": 4,
 "nbformat_minor": 1
}
