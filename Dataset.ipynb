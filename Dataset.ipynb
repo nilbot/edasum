{
 "cells": [
  {
   "cell_type": "code",
   "execution_count": 111,
   "metadata": {
    "collapsed": false,
    "deletable": true,
    "editable": true
   },
   "outputs": [],
   "source": [
    "from __future__ import absolute_import\n",
    "from __future__ import division, print_function, unicode_literals\n",
    "\n",
    "import sys\n",
    "import os\n",
    "import pandas as pd\n",
    "\n",
    "from sumy.parsers.plaintext import PlaintextParser\n",
    "from sumy.nlp.tokenizers import Tokenizer\n",
    "from sumy.summarizers.lex_rank import LexRankSummarizer as Summarizer\n",
    "from sumy.nlp.stemmers import Stemmer\n",
    "from sumy.utils import get_stop_words\n",
    "\n",
    "\n",
    "from items import *\n",
    "from dataframe import *\n",
    "from chronos import *\n",
    "\n",
    "import matplotlib\n",
    "import matplotlib.pyplot as plt\n",
    "matplotlib.style.use('ggplot')\n",
    "%matplotlib inline\n",
    "import numpy as np\n",
    "\n",
    "import calendar\n",
    "from ggplot import *\n",
    "\n",
    "import re"
   ]
  },
  {
   "cell_type": "code",
   "execution_count": 112,
   "metadata": {
    "collapsed": false,
    "deletable": true,
    "editable": true
   },
   "outputs": [],
   "source": [
    "# data open and auto parse\n",
    "\n",
    "with open('data/review_items.jl', 'r') as f:\n",
    "    raw = f.read()\n",
    "\n",
    "reviews = as_dataframe(raw)\n",
    "\n",
    "with open('data/hotel_items.jl','r') as f:\n",
    "    raw = f.read()\n",
    "\n",
    "hotels = as_dataframe(raw)"
   ]
  },
  {
   "cell_type": "code",
   "execution_count": 113,
   "metadata": {
    "collapsed": false,
    "deletable": true,
    "editable": true
   },
   "outputs": [
    {
     "data": {
      "text/plain": [
       "['batch_id',\n",
       " 'city',\n",
       " 'description',\n",
       " 'item_id',\n",
       " 'item_title',\n",
       " 'num_rooms',\n",
       " 'recommendation_list',\n",
       " 'site_name',\n",
       " 'url']"
      ]
     },
     "execution_count": 113,
     "metadata": {},
     "output_type": "execute_result"
    }
   ],
   "source": [
    "list(hotels.columns.values)"
   ]
  },
  {
   "cell_type": "code",
   "execution_count": 114,
   "metadata": {
    "collapsed": false,
    "deletable": true,
    "editable": true
   },
   "outputs": [
    {
     "data": {
      "text/plain": [
       "['<div class=\"propertyLink\" onclick=\"(ta.prwidgets.getjs(this,\\'handlers\\')).click(\\'/Hotel_Review-g186609-d498425-Reviews-Park_House_Hotel-Galway_County_Galway_Western_Ireland.html\\', \\'HotelName\\', 498425, true);(new Event(event)).stopPropagation();\">Park House Hotel</div>',\n",
       " '<div class=\"propertyLink\" onclick=\"(ta.prwidgets.getjs(this,\\'handlers\\')).click(\\'/Hotel_Review-g186609-d226394-Reviews-Radisson_Blu_Hotel_Spa_Galway-Galway_County_Galway_Western_Ireland.html\\', \\'HotelName\\', 226394, true);(new Event(event)).stopPropagation();\">Radisson Blu Hotel &amp; Spa, Galway</div>',\n",
       " '<div class=\"propertyLink\" onclick=\"(ta.prwidgets.getjs(this,\\'handlers\\')).click(\\'/Hotel_Review-g186609-d214568-Reviews-Galway_Bay_Hotel-Galway_County_Galway_Western_Ireland.html\\', \\'HotelName\\', 214568, true);(new Event(event)).stopPropagation();\">Galway Bay Hotel</div>']"
      ]
     },
     "execution_count": 114,
     "metadata": {},
     "output_type": "execute_result"
    }
   ],
   "source": [
    "hotels.recommendation_list[0]"
   ]
  },
  {
   "cell_type": "code",
   "execution_count": 115,
   "metadata": {
    "collapsed": false
   },
   "outputs": [
    {
     "name": "stdout",
     "output_type": "stream",
     "text": [
      "Hotel_Review-g186609-d498425-Reviews-Park_House_Hotel-Galway_County_Galway_Western_Ireland\n",
      "1\n"
     ]
    }
   ],
   "source": [
    "pat = r\"(?P<id>Hotel[\\w_-]+)\\.html\"\n",
    "origin = hotels.recommendation_list[0][0]\n",
    "import re\n",
    "\n",
    "m = re.search(pat, origin)\n",
    "print(m.group('id'))\n",
    "\n",
    "prog = re.compile(pat)\n",
    "\n",
    "res = prog.findall(origin)\n",
    "print(len(res))\n",
    "\n",
    "count = 0\n",
    "for lst in hotels.recommendation_list:\n",
    "    for strs in lst:\n",
    "        if (len(prog.findall(strs)) != 1):\n",
    "            print('Error')\n",
    "        else:\n",
    "            count+=1\n",
    "if (count != (len(hotels.recommendation_list)*3)):\n",
    "    print('Error')\n",
    "\n",
    "# test complete"
   ]
  },
  {
   "cell_type": "code",
   "execution_count": 116,
   "metadata": {
    "collapsed": false
   },
   "outputs": [
    {
     "name": "stdout",
     "output_type": "stream",
     "text": [
      "['batch_id', 'city', 'description', 'item_id', 'item_title', 'num_rooms', 'recommendation_list', 'site_name', 'url', 'recommend_1', 'recommend_2', 'recommend_3']\n"
     ]
    },
    {
     "data": {
      "text/plain": [
       "['batch_id',\n",
       " 'city',\n",
       " 'description',\n",
       " 'item_id',\n",
       " 'item_title',\n",
       " 'num_rooms',\n",
       " 'site_name',\n",
       " 'url',\n",
       " 'recommend_1',\n",
       " 'recommend_2',\n",
       " 'recommend_3']"
      ]
     },
     "execution_count": 116,
     "metadata": {},
     "output_type": "execute_result"
    }
   ],
   "source": [
    "#production\n",
    "pat = r\"(?P<id>Hotel[\\w_-]+)\\.html\" # hotel id pattern\n",
    "\n",
    "prog = re.compile(pat)\n",
    "\n",
    "recommend_1 = []\n",
    "recommend_2 = []\n",
    "recommend_3 = []\n",
    "for ind, hotel in hotels.iterrows():\n",
    "    host_id = hotel.item_id\n",
    "    recommend_list = hotel['recommendation_list']\n",
    "    recommended = []\n",
    "    i = 0\n",
    "    for recommend in recommend_list:\n",
    "        recommended.append(prog.findall(recommend)[0])\n",
    "        i += 1\n",
    "    recommend_1.append(recommended[0])\n",
    "    recommend_2.append(recommended[1])\n",
    "    recommend_3.append(recommended[2])\n",
    "\n",
    "# print(len(recommend_1))\n",
    "# print(len(recommend_2))\n",
    "# print(len(recommend_3))\n",
    "\n",
    "hotels['recommend_1'] = recommend_1\n",
    "hotels['recommend_2'] = recommend_1\n",
    "hotels['recommend_3'] = recommend_1\n",
    "\n",
    "# test\n",
    "print(list(hotels.columns.values))\n",
    "\n",
    "# clean\n",
    "cleaned_hotels = hotels.drop('recommendation_list', axis=1)\n",
    "\n",
    "# test\n",
    "list(cleaned_hotels.columns.values)"
   ]
  },
  {
   "cell_type": "code",
   "execution_count": 10,
   "metadata": {
    "collapsed": true,
    "deletable": true,
    "editable": true
   },
   "outputs": [],
   "source": [
    "reviewts = reviews.set_index('timestamp_rating')"
   ]
  },
  {
   "cell_type": "code",
   "execution_count": 11,
   "metadata": {
    "collapsed": true,
    "deletable": true,
    "editable": true
   },
   "outputs": [],
   "source": [
    "review_text_array = reviewts[:]['review_text'].values\n",
    "review_ids = reviewts[:]['review_id'].values"
   ]
  },
  {
   "cell_type": "code",
   "execution_count": 12,
   "metadata": {
    "collapsed": false,
    "deletable": true,
    "editable": true
   },
   "outputs": [],
   "source": [
    "for i,document in enumerate(review_text_array):\n",
    "    review_text_array[i] = re.sub(u\"\\n\",\"\",document)"
   ]
  },
  {
   "cell_type": "code",
   "execution_count": 13,
   "metadata": {
    "collapsed": false,
    "deletable": true,
    "editable": true
   },
   "outputs": [
    {
     "data": {
      "text/plain": [
       "'Our fifth stay at The Twelve and it continues to remain a favourite destination for my wife and I. On arrival the reception is always warm and welcoming, room was clean, the bath filled in about three minutes, the breakfast is consistently good and every single staff member is superb. Unfortunately we did not receive the usual little card and cake to our room (a lovely little touch that we always tell our friends about) and the Internet was down for the duration of our stay (only a mild irritant and I am sure beyond the control of the hotel at the time). Overall, a relaxing and vibrant boutique hotel and we will of course be back annually.'"
      ]
     },
     "execution_count": 13,
     "metadata": {},
     "output_type": "execute_result"
    }
   ],
   "source": [
    "review_text_array[3]"
   ]
  },
  {
   "cell_type": "code",
   "execution_count": 18,
   "metadata": {
    "collapsed": false,
    "deletable": true,
    "editable": true
   },
   "outputs": [],
   "source": [
    "# makedirs python>=3.2\n",
    "os.makedirs('dataset/review', exist_ok=True)\n",
    "os.makedirs('dataset/review_meta', exist_ok=True)\n",
    "os.makedirs('dataset/hotel', exist_ok=True)\n",
    "# os.makedirs('dataset/hotel_meta', exist_ok=True)\n",
    "os.makedirs('dataset/text/documents', exist_ok=True)\n",
    "os.makedirs('dataset/text/sentences', exist_ok=True)\n",
    "\n"
   ]
  },
  {
   "cell_type": "code",
   "execution_count": 117,
   "metadata": {
    "collapsed": true
   },
   "outputs": [],
   "source": [
    "cleaned_hotels.to_csv('dataset/hotel/hotels.csv')"
   ]
  },
  {
   "cell_type": "code",
   "execution_count": 15,
   "metadata": {
    "collapsed": false,
    "deletable": true,
    "editable": true
   },
   "outputs": [],
   "source": [
    "if not os.path.exists('documents'):\n",
    "    os.mkdir('documents')\n",
    "    \n",
    "for i,document in enumerate(review_text_array):\n",
    "    with open(\"documents/{0}.txt\".format(review_ids[i]),\"w\") as f:\n",
    "        f.write(document)"
   ]
  },
  {
   "cell_type": "code",
   "execution_count": null,
   "metadata": {
    "collapsed": true,
    "deletable": true,
    "editable": true
   },
   "outputs": [],
   "source": []
  }
 ],
 "metadata": {
  "celltoolbar": "Edit Metadata",
  "kernelspec": {
   "display_name": "Python 3",
   "language": "python",
   "name": "python3"
  },
  "language_info": {
   "codemirror_mode": {
    "name": "ipython",
    "version": 3
   },
   "file_extension": ".py",
   "mimetype": "text/x-python",
   "name": "python",
   "nbconvert_exporter": "python",
   "pygments_lexer": "ipython3",
   "version": "3.6.0"
  }
 },
 "nbformat": 4,
 "nbformat_minor": 1
}
