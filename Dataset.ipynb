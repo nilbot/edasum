{
 "cells": [
  {
   "cell_type": "code",
   "execution_count": 5,
   "metadata": {
    "collapsed": false,
    "deletable": true,
    "editable": true
   },
   "outputs": [],
   "source": [
    "from __future__ import absolute_import\n",
    "from __future__ import division, print_function, unicode_literals\n",
    "\n",
    "import sys\n",
    "import os\n",
    "import pandas as pd\n",
    "\n",
    "from sumy.parsers.plaintext import PlaintextParser\n",
    "from sumy.nlp.tokenizers import Tokenizer\n",
    "from sumy.summarizers.lex_rank import LexRankSummarizer as Summarizer\n",
    "from sumy.nlp.stemmers import Stemmer\n",
    "from sumy.utils import get_stop_words\n",
    "\n",
    "\n",
    "from items import *\n",
    "from dataframe import *\n",
    "from chronos import *\n",
    "\n",
    "import matplotlib\n",
    "import matplotlib.pyplot as plt\n",
    "matplotlib.style.use('ggplot')\n",
    "%matplotlib inline\n",
    "import numpy as np\n",
    "\n",
    "import calendar\n",
    "from ggplot import *\n",
    "\n",
    "import re"
   ]
  },
  {
   "cell_type": "code",
   "execution_count": 6,
   "metadata": {
    "collapsed": false,
    "deletable": true,
    "editable": true
   },
   "outputs": [],
   "source": [
    "# data open and auto parse\n",
    "\n",
    "with open('data/review_items.jl', 'r') as f:\n",
    "    raw = f.read()\n",
    "\n",
    "reviews = as_dataframe(raw)\n",
    "\n",
    "with open('data/hotel_items.jl','r') as f:\n",
    "    raw = f.read()\n",
    "\n",
    "hotels = as_dataframe(raw)"
   ]
  },
  {
   "cell_type": "code",
   "execution_count": 7,
   "metadata": {
    "collapsed": false,
    "deletable": true,
    "editable": true
   },
   "outputs": [
    {
     "data": {
      "text/plain": [
       "['batch_id',\n",
       " 'city',\n",
       " 'description',\n",
       " 'item_id',\n",
       " 'item_title',\n",
       " 'num_rooms',\n",
       " 'recommendation_list',\n",
       " 'site_name',\n",
       " 'url']"
      ]
     },
     "execution_count": 7,
     "metadata": {},
     "output_type": "execute_result"
    }
   ],
   "source": [
    "list(hotels.columns.values)"
   ]
  },
  {
   "cell_type": "code",
   "execution_count": 8,
   "metadata": {
    "collapsed": false,
    "deletable": true,
    "editable": true
   },
   "outputs": [
    {
     "data": {
      "text/plain": [
       "['<div class=\"propertyLink\" onclick=\"(ta.prwidgets.getjs(this,\\'handlers\\')).click(\\'/Hotel_Review-g186609-d498425-Reviews-Park_House_Hotel-Galway_County_Galway_Western_Ireland.html\\', \\'HotelName\\', 498425, true);(new Event(event)).stopPropagation();\">Park House Hotel</div>',\n",
       " '<div class=\"propertyLink\" onclick=\"(ta.prwidgets.getjs(this,\\'handlers\\')).click(\\'/Hotel_Review-g186609-d226394-Reviews-Radisson_Blu_Hotel_Spa_Galway-Galway_County_Galway_Western_Ireland.html\\', \\'HotelName\\', 226394, true);(new Event(event)).stopPropagation();\">Radisson Blu Hotel &amp; Spa, Galway</div>',\n",
       " '<div class=\"propertyLink\" onclick=\"(ta.prwidgets.getjs(this,\\'handlers\\')).click(\\'/Hotel_Review-g186609-d214568-Reviews-Galway_Bay_Hotel-Galway_County_Galway_Western_Ireland.html\\', \\'HotelName\\', 214568, true);(new Event(event)).stopPropagation();\">Galway Bay Hotel</div>']"
      ]
     },
     "execution_count": 8,
     "metadata": {},
     "output_type": "execute_result"
    }
   ],
   "source": [
    "hotels.recommendation_list[0]"
   ]
  },
  {
   "cell_type": "code",
   "execution_count": 9,
   "metadata": {
    "collapsed": false,
    "deletable": true,
    "editable": true
   },
   "outputs": [
    {
     "data": {
      "text/plain": [
       "'Hotel_Review-g186609-d206806-Reviews-Jurys_Inn_Galway-Galway_County_Galway_Western_Ireland'"
      ]
     },
     "execution_count": 9,
     "metadata": {},
     "output_type": "execute_result"
    }
   ],
   "source": [
    "hotels.item_id[0]"
   ]
  },
  {
   "cell_type": "code",
   "execution_count": 10,
   "metadata": {
    "collapsed": true,
    "deletable": true,
    "editable": true
   },
   "outputs": [],
   "source": [
    "reviewts = reviews.set_index('timestamp_rating')"
   ]
  },
  {
   "cell_type": "code",
   "execution_count": 11,
   "metadata": {
    "collapsed": true,
    "deletable": true,
    "editable": true
   },
   "outputs": [],
   "source": [
    "review_text_array = reviewts[:]['review_text'].values\n",
    "review_ids = reviewts[:]['review_id'].values"
   ]
  },
  {
   "cell_type": "code",
   "execution_count": 12,
   "metadata": {
    "collapsed": false,
    "deletable": true,
    "editable": true
   },
   "outputs": [],
   "source": [
    "for i,document in enumerate(review_text_array):\n",
    "    review_text_array[i] = re.sub(u\"\\n\",\"\",document)"
   ]
  },
  {
   "cell_type": "code",
   "execution_count": 13,
   "metadata": {
    "collapsed": false,
    "deletable": true,
    "editable": true
   },
   "outputs": [
    {
     "data": {
      "text/plain": [
       "'Our fifth stay at The Twelve and it continues to remain a favourite destination for my wife and I. On arrival the reception is always warm and welcoming, room was clean, the bath filled in about three minutes, the breakfast is consistently good and every single staff member is superb. Unfortunately we did not receive the usual little card and cake to our room (a lovely little touch that we always tell our friends about) and the Internet was down for the duration of our stay (only a mild irritant and I am sure beyond the control of the hotel at the time). Overall, a relaxing and vibrant boutique hotel and we will of course be back annually.'"
      ]
     },
     "execution_count": 13,
     "metadata": {},
     "output_type": "execute_result"
    }
   ],
   "source": [
    "review_text_array[3]"
   ]
  },
  {
   "cell_type": "code",
   "execution_count": 18,
   "metadata": {
    "collapsed": false
   },
   "outputs": [],
   "source": [
    "# makedirs python>=3.2\n",
    "os.makedirs('dataset/review', exist_ok=True)\n",
    "os.makedirs('dataset/review_meta', exist_ok=True)\n",
    "os.makedirs('dataset/hotel', exist_ok=True)\n",
    "os.makedirs('dataset/hotel_meta', exist_ok=True)\n",
    "os.makedirs('dataset/text/documents', exist_ok=True)\n",
    "os.makedirs('dataset/text/sentences', exist_ok=True)\n",
    "\n"
   ]
  },
  {
   "cell_type": "code",
   "execution_count": 15,
   "metadata": {
    "collapsed": false
   },
   "outputs": [],
   "source": [
    "if not os.path.exists('documents'):\n",
    "    os.mkdir('documents')\n",
    "    \n",
    "for i,document in enumerate(review_text_array):\n",
    "    with open(\"documents/{0}.txt\".format(review_ids[i]),\"w\") as f:\n",
    "        f.write(document)"
   ]
  },
  {
   "cell_type": "code",
   "execution_count": null,
   "metadata": {
    "collapsed": true
   },
   "outputs": [],
   "source": []
  }
 ],
 "metadata": {
  "celltoolbar": "Edit Metadata",
  "kernelspec": {
   "display_name": "Python 3",
   "language": "python",
   "name": "python3"
  },
  "language_info": {
   "codemirror_mode": {
    "name": "ipython",
    "version": 3
   },
   "file_extension": ".py",
   "mimetype": "text/x-python",
   "name": "python",
   "nbconvert_exporter": "python",
   "pygments_lexer": "ipython3",
   "version": "3.6.0"
  }
 },
 "nbformat": 4,
 "nbformat_minor": 1
}
