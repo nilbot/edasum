{
 "cells": [
  {
   "cell_type": "code",
   "execution_count": 58,
   "metadata": {
    "collapsed": false,
    "deletable": true,
    "editable": true
   },
   "outputs": [],
   "source": [
    "from nltk.book import *\n",
    "from nltk import *"
   ]
  },
  {
   "cell_type": "code",
   "execution_count": 59,
   "metadata": {
    "collapsed": false,
    "deletable": true,
    "editable": true
   },
   "outputs": [
    {
     "data": {
      "text/plain": [
       "<Text: Moby Dick by Herman Melville 1851>"
      ]
     },
     "execution_count": 59,
     "metadata": {},
     "output_type": "execute_result"
    }
   ],
   "source": [
    "text1"
   ]
  },
  {
   "cell_type": "code",
   "execution_count": 60,
   "metadata": {
    "collapsed": false,
    "deletable": true,
    "editable": true
   },
   "outputs": [
    {
     "data": {
      "text/plain": [
       "<Text: Sense and Sensibility by Jane Austen 1811>"
      ]
     },
     "execution_count": 60,
     "metadata": {},
     "output_type": "execute_result"
    }
   ],
   "source": [
    "text2"
   ]
  },
  {
   "cell_type": "code",
   "execution_count": 61,
   "metadata": {
    "collapsed": false,
    "deletable": true,
    "editable": true
   },
   "outputs": [
    {
     "name": "stdout",
     "output_type": "stream",
     "text": [
      "true contemptible christian abundant few part mean careful puzzled\n",
      "mystifying passing curious loving wise doleful gamesome singular\n",
      "delightfully perilous fearless\n"
     ]
    }
   ],
   "source": [
    "text1.similar(\"monstrous\")"
   ]
  },
  {
   "cell_type": "code",
   "execution_count": 62,
   "metadata": {
    "collapsed": false,
    "deletable": true,
    "editable": true
   },
   "outputs": [
    {
     "name": "stdout",
     "output_type": "stream",
     "text": [
      "a_pretty am_glad a_lucky is_pretty be_glad\n"
     ]
    }
   ],
   "source": [
    "text2.common_contexts([\"monstrous\", \"very\"])"
   ]
  },
  {
   "cell_type": "code",
   "execution_count": 63,
   "metadata": {
    "collapsed": true,
    "deletable": true,
    "editable": true
   },
   "outputs": [],
   "source": [
    "import nltk.draw"
   ]
  },
  {
   "cell_type": "code",
   "execution_count": 64,
   "metadata": {
    "collapsed": false,
    "deletable": true,
    "editable": true
   },
   "outputs": [
    {
     "data": {
      "image/png": "[encoded data removed]",
      "text/plain": [
       "<matplotlib.figure.Figure at 0x7f1d631b0128>"
      ]
     },
     "metadata": {},
     "output_type": "display_data"
    }
   ],
   "source": [
    "text4.dispersion_plot([\"citizens\", \"democracy\", \"freedom\", \"duties\", \"America\"])"
   ]
  },
  {
   "cell_type": "code",
   "execution_count": 65,
   "metadata": {
    "collapsed": false,
    "deletable": true,
    "editable": true
   },
   "outputs": [
    {
     "data": {
      "text/plain": [
       "nltk.text.Text"
      ]
     },
     "execution_count": 65,
     "metadata": {},
     "output_type": "execute_result"
    }
   ],
   "source": [
    "type(text3)"
   ]
  },
  {
   "cell_type": "code",
   "execution_count": 66,
   "metadata": {
    "collapsed": false,
    "deletable": true,
    "editable": true
   },
   "outputs": [
    {
     "data": {
      "text/plain": [
       "704"
      ]
     },
     "execution_count": 66,
     "metadata": {},
     "output_type": "execute_result"
    }
   ],
   "source": [
    "text5.count('lol')"
   ]
  },
  {
   "cell_type": "code",
   "execution_count": 67,
   "metadata": {
    "collapsed": false,
    "deletable": true,
    "editable": true
   },
   "outputs": [],
   "source": [
    "def lexical_diversity(document):\n",
    "    return len(set(document))/len(document)\n",
    "    "
   ]
  },
  {
   "cell_type": "code",
   "execution_count": 68,
   "metadata": {
    "collapsed": false,
    "deletable": true,
    "editable": true
   },
   "outputs": [
    {
     "data": {
      "text/plain": [
       "0.13477005109975562"
      ]
     },
     "execution_count": 68,
     "metadata": {},
     "output_type": "execute_result"
    }
   ],
   "source": [
    "lexical_diversity(text5)"
   ]
  },
  {
   "cell_type": "code",
   "execution_count": 69,
   "metadata": {
    "collapsed": false,
    "deletable": true,
    "editable": true
   },
   "outputs": [
    {
     "data": {
      "text/plain": [
       "['said', 'than']"
      ]
     },
     "execution_count": 69,
     "metadata": {},
     "output_type": "execute_result"
    }
   ],
   "source": [
    "saying = ['After', 'all', 'is', 'said', 'and', 'done',\n",
    " 'more', 'is', 'said', 'than', 'done']\n",
    "tokens = set(saying)\n",
    "tokens = sorted(tokens)\n",
    "tokens[-2:]"
   ]
  },
  {
   "cell_type": "code",
   "execution_count": 70,
   "metadata": {
    "collapsed": true,
    "deletable": true,
    "editable": true
   },
   "outputs": [],
   "source": [
    "fdist1 = FreqDist(text1)"
   ]
  },
  {
   "cell_type": "code",
   "execution_count": 71,
   "metadata": {
    "collapsed": false,
    "deletable": true,
    "editable": true
   },
   "outputs": [
    {
     "data": {
      "text/plain": [
       "[(',', 18713),\n",
       " ('the', 13721),\n",
       " ('.', 6862),\n",
       " ('of', 6536),\n",
       " ('and', 6024),\n",
       " ('a', 4569),\n",
       " ('to', 4542),\n",
       " (';', 4072),\n",
       " ('in', 3916),\n",
       " ('that', 2982)]"
      ]
     },
     "execution_count": 71,
     "metadata": {},
     "output_type": "execute_result"
    }
   ],
   "source": [
    "fdist1.most_common(10)"
   ]
  },
  {
   "cell_type": "code",
   "execution_count": 72,
   "metadata": {
    "collapsed": true,
    "deletable": true,
    "editable": true
   },
   "outputs": [],
   "source": [
    "V = set(text1)"
   ]
  },
  {
   "cell_type": "code",
   "execution_count": 73,
   "metadata": {
    "collapsed": true,
    "deletable": true,
    "editable": true
   },
   "outputs": [],
   "source": [
    "long_words = [w for w in V if len(w) > 15]"
   ]
  },
  {
   "cell_type": "code",
   "execution_count": 74,
   "metadata": {
    "collapsed": false,
    "deletable": true,
    "editable": true
   },
   "outputs": [
    {
     "data": {
      "text/plain": [
       "['CIRCUMNAVIGATION',\n",
       " 'Physiognomically',\n",
       " 'apprehensiveness',\n",
       " 'cannibalistically',\n",
       " 'characteristically',\n",
       " 'circumnavigating',\n",
       " 'circumnavigation',\n",
       " 'circumnavigations',\n",
       " 'comprehensiveness',\n",
       " 'hermaphroditical',\n",
       " 'indiscriminately',\n",
       " 'indispensableness',\n",
       " 'irresistibleness',\n",
       " 'physiognomically',\n",
       " 'preternaturalness',\n",
       " 'responsibilities',\n",
       " 'simultaneousness',\n",
       " 'subterraneousness',\n",
       " 'supernaturalness',\n",
       " 'superstitiousness',\n",
       " 'uncomfortableness',\n",
       " 'uncompromisedness',\n",
       " 'undiscriminating',\n",
       " 'uninterpenetratingly']"
      ]
     },
     "execution_count": 74,
     "metadata": {},
     "output_type": "execute_result"
    }
   ],
   "source": [
    "sorted(long_words)"
   ]
  },
  {
   "cell_type": "code",
   "execution_count": 75,
   "metadata": {
    "collapsed": true,
    "deletable": true,
    "editable": true
   },
   "outputs": [],
   "source": [
    "fdist5 = FreqDist(text5)"
   ]
  },
  {
   "cell_type": "code",
   "execution_count": 76,
   "metadata": {
    "collapsed": false,
    "deletable": true,
    "editable": true
   },
   "outputs": [
    {
     "data": {
      "text/plain": [
       "['#14-19teens',\n",
       " '#talkcity_adults',\n",
       " '((((((((((',\n",
       " '........',\n",
       " 'Question',\n",
       " 'actually',\n",
       " 'anything',\n",
       " 'computer',\n",
       " 'cute.-ass',\n",
       " 'everyone',\n",
       " 'football',\n",
       " 'innocent',\n",
       " 'listening',\n",
       " 'remember',\n",
       " 'seriously',\n",
       " 'something',\n",
       " 'together',\n",
       " 'tomorrow',\n",
       " 'watching']"
      ]
     },
     "execution_count": 76,
     "metadata": {},
     "output_type": "execute_result"
    }
   ],
   "source": [
    "sorted(w for w in set(text5) if len(w) > 7 and fdist5[w] > 7)"
   ]
  },
  {
   "cell_type": "code",
   "execution_count": 77,
   "metadata": {
    "collapsed": false,
    "deletable": true,
    "editable": true
   },
   "outputs": [
    {
     "data": {
      "text/plain": [
       "[('more', 'is'), ('is', 'said'), ('said', 'than'), ('than', 'done')]"
      ]
     },
     "execution_count": 77,
     "metadata": {},
     "output_type": "execute_result"
    }
   ],
   "source": [
    "\n",
    "list(bigrams(['more', 'is', 'said', 'than', 'done']))"
   ]
  },
  {
   "cell_type": "code",
   "execution_count": 1,
   "metadata": {
    "collapsed": true,
    "deletable": true,
    "editable": true
   },
   "outputs": [],
   "source": [
    "import requests\n",
    "from bs4 import BeautifulSoup"
   ]
  },
  {
   "cell_type": "code",
   "execution_count": 2,
   "metadata": {
    "collapsed": true,
    "deletable": true,
    "editable": true
   },
   "outputs": [],
   "source": [
    "url = 'http://www.independent.ie/irishnews/politics/coveney-and-varadkar-agree-on-a-st-patricks-day-ultimatumfor-kenny-35463673.html'"
   ]
  },
  {
   "cell_type": "code",
   "execution_count": 3,
   "metadata": {
    "collapsed": true,
    "deletable": true,
    "editable": true
   },
   "outputs": [],
   "source": [
    "page = requests.get(url)"
   ]
  },
  {
   "cell_type": "code",
   "execution_count": 4,
   "metadata": {
    "collapsed": true,
    "deletable": true,
    "editable": true
   },
   "outputs": [],
   "source": [
    "soup = BeautifulSoup(page.content, 'html.parser')"
   ]
  },
  {
   "cell_type": "code",
   "execution_count": 9,
   "metadata": {
    "collapsed": false,
    "deletable": true,
    "editable": true
   },
   "outputs": [
    {
     "data": {
      "text/plain": [
       "'TAOISEACH Enda Kenny is to finally address questions surrounding his leadership on Wednesday after coming under pressure from his two most likely successors. Mr Kenny will be expected to set out a firm timeline for his departure. Failure to do so will undoubtedly result in a motion of no confidence being tabled immediately. Fine Gael has been in turmoil this weekend amid growing fears that the leadership issue could force an early general election. Today’s Sunday Independent/Millward Brown Kantar opinion poll shows Fine Gael trailing its main rival Fianna Fáil by eight points.But in a statement to Independent.ie, a spokesman for Mr Kenny said: “The Taoiseach will address the parliamentary party on Wednesday and won’t be making any comment on the issue (of leadership) before then.”Earlier, Housing Minister Simon Coveney said he believes Mr Kenny should be replaced as Fine Gael leader following his planned trip to Washington for St Patrick’s Day. The claim was immediately echoed by Mr Coveney’s main rival Leo Varadkar on Sunday afternoon. Speaking on RTÉ’s ‘The Week in Politics’, Mr Coveney said the transition in Fine Gael should be “calm and orderly” as he hit out at other TDs for issuing “threats and ultimatums” to Mr Kenny.“In my view, we should trust the Taoiseach on this. My view is that the Taoiseach should go to Washington for St Patrick’s Day. But I expect the leadership within Fine Gael, but ultimately the leadership in the country, the issues around that will be dealt with very quickly after that,” Mr Coveney told RTÉ’s ‘The Week in Politics’. Mr Coveney stood by his strategy of painting Mr Varadkar as more impatient in relation to the leadership issue.“I think the emphasis has been a little bit different from Leo and me. I think he wants to push things, he wants clarity from the Taoiseach on timelines,” the told broadcaster Áine Lawlor. Mr Coveney added:“I’ve said very clearly that I don’t think people in the party should be coming out and putting down ultimatums and making threats of motions of no confidence and demanding immediate statements from the Taoiseach.” He said the Taoiseach has brought the country through a “storm” and is “owed” the respect by members.The intervention by Mr Coveney came just hours after Mr Varadkar released a statement that put huge pressure on Mr Kenny to step aside. “Everyone is waiting to hear from the Taoiseach. The current situation is distracting and destabilising for the Government, the party and the country. I have full confidence in the Taoiseach to settle it,” the statement said.'"
      ]
     },
     "execution_count": 9,
     "metadata": {},
     "output_type": "execute_result"
    }
   ],
   "source": [
    "paragraphs = soup.find_all('div', class_=\"ctx_content\")\n",
    "# then getting the text sections for each one\n",
    "x = [paragraph.get_text() for paragraph in paragraphs]\n",
    "# and then joining them into a single text\n",
    "mytext = ' '.join(x)\n",
    "mytext = ' '.join(mytext.split())\n",
    "mytext"
   ]
  },
  {
   "cell_type": "code",
   "execution_count": 100,
   "metadata": {
    "collapsed": false,
    "deletable": true,
    "editable": true
   },
   "outputs": [
    {
     "name": "stdout",
     "output_type": "stream",
     "text": [
      "TAOISEACH Enda Kenny is to finally address questions surrounding his leadership on Wednesday after coming under pressure from his two most likely successors.\n",
      "Mr Kenny will be expected to set out a firm timeline for his departure.\n",
      "Failure to do so will undoubtedly result in a motion of no confidence being tabled immediately.\n",
      "Fine Gael has been in turmoil this weekend amid growing fears that the leadership issue could force an early general election.\n",
      "Today’s Sunday Independent/Millward Brown Kantar opinion poll shows Fine Gael trailing its main rival Fianna Fáil by eight points.But in a statement to Independent.ie, a spokesman for Mr Kenny said: “The Taoiseach will address the parliamentary party on Wednesday and won’t be making any comment on the issue (of leadership) before then.”Earlier, Housing Minister Simon Coveney said he believes Mr Kenny should be replaced as Fine Gael leader following his planned trip to Washington for St Patrick’s Day.\n",
      "The claim was immediately echoed by Mr Coveney’s main rival Leo Varadkar on Sunday afternoon.\n",
      "Speaking on RTÉ’s ‘The Week in Politics’, Mr Coveney said the transition in Fine Gael should be “calm and orderly” as he hit out at other TDs for issuing “threats and ultimatums” to Mr Kenny.“In my view, we should trust the Taoiseach on this.\n",
      "My view is that the Taoiseach should go to Washington for St Patrick’s Day.\n",
      "But I expect the leadership within Fine Gael, but ultimately the leadership in the country, the issues around that will be dealt with very quickly after that,” Mr Coveney told RTÉ’s ‘The Week in Politics’.\n",
      "Mr Coveney stood by his strategy of painting Mr Varadkar as more impatient in relation to the leadership issue.“I think the emphasis has been a little bit different from Leo and me.\n",
      "I think he wants to push things, he wants clarity from the Taoiseach on timelines,” the told broadcaster Áine Lawlor.\n",
      "Mr Coveney added:“I’ve said very clearly that I don’t think people in the party should be coming out and putting down ultimatums and making threats of motions of no confidence and demanding immediate statements from the Taoiseach.” He said the Taoiseach has brought the country through a “storm” and is “owed” the respect by members.The intervention by Mr Coveney came just hours after Mr Varadkar released a statement that put huge pressure on Mr Kenny to step aside.\n",
      "“Everyone is waiting to hear from the Taoiseach.\n",
      "The current situation is distracting and destabilising for the Government, the party and the country.\n",
      "I have full confidence in the Taoiseach to settle it,” the statement said.\n",
      "<class 'list'>\n"
     ]
    }
   ],
   "source": [
    "import nltk\n",
    "# To segment the text into sentences:\n",
    "sents = nltk.sent_tokenize(mytext)\n",
    "\n",
    "for sent in sents:\n",
    "    print(sent)\n",
    "\n",
    "print(type(sents))"
   ]
  },
  {
   "cell_type": "code",
   "execution_count": 17,
   "metadata": {
    "collapsed": false,
    "deletable": true,
    "editable": true
   },
   "outputs": [
    {
     "name": "stdout",
     "output_type": "stream",
     "text": [
      "['TAOISEACH', 'Enda', 'Kenny', 'is', 'to', 'finally', 'address', 'questions', 'surrounding', 'his', 'leadership', 'on', 'Wednesday', 'after', 'coming', 'under', 'pressure', 'from', 'his', 'two', 'most', 'likely', 'successors', '.', 'Mr', 'Kenny', 'will', 'be', 'expected', 'to', 'set', 'out', 'a', 'firm', 'timeline', 'for', 'his', 'departure', '.', 'Failure', 'to', 'do', 'so', 'will', 'undoubtedly', 'result', 'in', 'a', 'motion', 'of', 'no', 'confidence', 'being', 'tabled', 'immediately', '.', 'Fine', 'Gael', 'has', 'been', 'in', 'turmoil', 'this', 'weekend', 'amid', 'growing', 'fears', 'that', 'the', 'leadership', 'issue', 'could', 'force', 'an', 'early', 'general', 'election', '.', 'Today’s', 'Sunday', 'Independent/Millward', 'Brown', 'Kantar', 'opinion', 'poll', 'shows', 'Fine', 'Gael', 'trailing', 'its', 'main', 'rival', 'Fianna', 'Fáil', 'by', 'eight', 'points.But', 'in', 'a', 'statement', 'to', 'Independent.ie', ',', 'a', 'spokesman', 'for', 'Mr', 'Kenny', 'said', ':', '“The', 'Taoiseach', 'will', 'address', 'the', 'parliamentary', 'party', 'on', 'Wednesday', 'and', 'won’t', 'be', 'making', 'any', 'comment', 'on', 'the', 'issue', '(', 'of', 'leadership', ')', 'before', 'then.”Earlier', ',', 'Housing', 'Minister', 'Simon', 'Coveney', 'said', 'he', 'believes', 'Mr', 'Kenny', 'should', 'be', 'replaced', 'as', 'Fine', 'Gael', 'leader', 'following', 'his', 'planned', 'trip', 'to', 'Washington', 'for', 'St', 'Patrick’s', 'Day', '.', 'The', 'claim', 'was', 'immediately', 'echoed', 'by', 'Mr', 'Coveney’s', 'main', 'rival', 'Leo', 'Varadkar', 'on', 'Sunday', 'afternoon', '.', 'Speaking', 'on', 'RTÉ’s', '‘The', 'Week', 'in', 'Politics’', ',', 'Mr', 'Coveney', 'said', 'the', 'transition', 'in', 'Fine', 'Gael', 'should', 'be', '“calm', 'and', 'orderly”', 'as', 'he', 'hit', 'out', 'at', 'other', 'TDs', 'for', 'issuing', '“threats', 'and', 'ultimatums”', 'to', 'Mr', 'Kenny.“In', 'my', 'view', ',', 'we', 'should', 'trust', 'the', 'Taoiseach', 'on', 'this', '.', 'My', 'view', 'is', 'that', 'the', 'Taoiseach', 'should', 'go', 'to', 'Washington', 'for', 'St', 'Patrick’s', 'Day', '.', 'But', 'I', 'expect', 'the', 'leadership', 'within', 'Fine', 'Gael', ',', 'but', 'ultimately', 'the', 'leadership', 'in', 'the', 'country', ',', 'the', 'issues', 'around', 'that', 'will', 'be', 'dealt', 'with', 'very', 'quickly', 'after', 'that', ',', '”', 'Mr', 'Coveney', 'told', 'RTÉ’s', '‘The', 'Week', 'in', 'Politics’', '.', 'Mr', 'Coveney', 'stood', 'by', 'his', 'strategy', 'of', 'painting', 'Mr', 'Varadkar', 'as', 'more', 'impatient', 'in', 'relation', 'to', 'the', 'leadership', 'issue.“I', 'think', 'the', 'emphasis', 'has', 'been', 'a', 'little', 'bit', 'different', 'from', 'Leo', 'and', 'me', '.', 'I', 'think', 'he', 'wants', 'to', 'push', 'things', ',', 'he', 'wants', 'clarity', 'from', 'the', 'Taoiseach', 'on', 'timelines', ',', '”', 'the', 'told', 'broadcaster', 'Áine', 'Lawlor', '.', 'Mr', 'Coveney', 'added', ':', '“I’ve', 'said', 'very', 'clearly', 'that', 'I', 'don’t', 'think', 'people', 'in', 'the', 'party', 'should', 'be', 'coming', 'out', 'and', 'putting', 'down', 'ultimatums', 'and', 'making', 'threats', 'of', 'motions', 'of', 'no', 'confidence', 'and', 'demanding', 'immediate', 'statements', 'from', 'the', 'Taoiseach.”', 'He', 'said', 'the', 'Taoiseach', 'has', 'brought', 'the', 'country', 'through', 'a', '“storm”', 'and', 'is', '“owed”', 'the', 'respect', 'by', 'members.The', 'intervention', 'by', 'Mr', 'Coveney', 'came', 'just', 'hours', 'after', 'Mr', 'Varadkar', 'released', 'a', 'statement', 'that', 'put', 'huge', 'pressure', 'on', 'Mr', 'Kenny', 'to', 'step', 'aside', '.', '“Everyone', 'is', 'waiting', 'to', 'hear', 'from', 'the', 'Taoiseach', '.', 'The', 'current', 'situation', 'is', 'distracting', 'and', 'destabilising', 'for', 'the', 'Government', ',', 'the', 'party', 'and', 'the', 'country', '.', 'I', 'have', 'full', 'confidence', 'in', 'the', 'Taoiseach', 'to', 'settle', 'it', ',', '”', 'the', 'statement', 'said', '.']\n"
     ]
    }
   ],
   "source": [
    "# To segment the text into words (tokens)\n",
    "tokens = nltk.word_tokenize(mytext)\n",
    "print(tokens)"
   ]
  },
  {
   "cell_type": "code",
   "execution_count": 20,
   "metadata": {
    "collapsed": false,
    "deletable": true,
    "editable": true
   },
   "outputs": [
    {
     "data": {
      "image/png": "[encoded data removed]",
      "text/plain": [
       "<matplotlib.figure.Figure at 0x7f0990049f60>"
      ]
     },
     "metadata": {},
     "output_type": "display_data"
    }
   ],
   "source": [
    "sorted_tokens = sorted(tokens)\n",
    "# To plot the 20 most frequent tokens:\n",
    "fd = nltk.FreqDist(sorted_tokens)\n",
    "fd.most_common(20)\n",
    "fd.plot(20)"
   ]
  },
  {
   "cell_type": "code",
   "execution_count": 21,
   "metadata": {
    "collapsed": false,
    "deletable": true,
    "editable": true
   },
   "outputs": [
    {
     "data": {
      "image/png": "[encoded data removed]",
      "text/plain": [
       "<matplotlib.figure.Figure at 0x7f090d8ed0f0>"
      ]
     },
     "metadata": {},
     "output_type": "display_data"
    }
   ],
   "source": [
    "# And as a cumulative plot:\n",
    "fd.plot(20, cumulative=True)\n"
   ]
  },
  {
   "cell_type": "code",
   "execution_count": 22,
   "metadata": {
    "collapsed": false,
    "deletable": true,
    "editable": true
   },
   "outputs": [
    {
     "name": "stderr",
     "output_type": "stream",
     "text": [
      "/home/ersi/.linuxbrew/opt/python3/lib/python3.6/site-packages/nltk/draw/__init__.py:15: UserWarning: nltk.draw package not loaded (please install Tkinter library).\n",
      "  warnings.warn(\"nltk.draw package not loaded \"\n"
     ]
    },
    {
     "data": {
      "image/png": "[encoded data removed]",
      "text/plain": [
       "<matplotlib.figure.Figure at 0x7f090dcb42e8>"
      ]
     },
     "metadata": {},
     "output_type": "display_data"
    }
   ],
   "source": [
    "# Lexical Dispersion Plot of 15 most frequent tokens\n",
    "words = [word for (word,freq) in fd.most_common(15)]\n",
    "dp = nltk.draw.dispersion.dispersion_plot(tokens,words)"
   ]
  },
  {
   "cell_type": "code",
   "execution_count": 24,
   "metadata": {
    "collapsed": false,
    "deletable": true,
    "editable": true
   },
   "outputs": [
    {
     "data": {
      "image/png": "[encoded data removed]",
      "text/plain": [
       "<matplotlib.figure.Figure at 0x7f09709ca2e8>"
      ]
     },
     "metadata": {},
     "output_type": "display_data"
    }
   ],
   "source": [
    "# Lexical Dispersion Plot of 30 most frequent tokens excluding stopwords\n",
    "from nltk.corpus import stopwords\n",
    "no_stop_words = [word for (word,freq) in fd.most_common(30) if word not in stopwords.words('english')]\n",
    "dp_no_stop_words = nltk.draw.dispersion.dispersion_plot(tokens,no_stop_words)"
   ]
  },
  {
   "cell_type": "code",
   "execution_count": 25,
   "metadata": {
    "collapsed": false,
    "deletable": true,
    "editable": true
   },
   "outputs": [
    {
     "data": {
      "image/png": "[encoded data removed]",
      "text/plain": [
       "<matplotlib.figure.Figure at 0x7f097052dda0>"
      ]
     },
     "metadata": {},
     "output_type": "display_data"
    }
   ],
   "source": [
    "# To plot the 20 most frequent token pairs:\n",
    "token_pairs = nltk.bigrams(tokens)\n",
    "fd1 = nltk.FreqDist(token_pairs)\n",
    "fd1.most_common(20)\n",
    "fd1.plot(20)"
   ]
  },
  {
   "cell_type": "code",
   "execution_count": 26,
   "metadata": {
    "collapsed": false,
    "deletable": true,
    "editable": true
   },
   "outputs": [
    {
     "name": "stdout",
     "output_type": "stream",
     "text": [
      "['Enda', 'Fine', 'Fáil', 'Gael', 'Week', 'amid', 'been', 'came', 'down', 'firm', 'from', 'full', 'have', 'hear', 'huge', 'just', 'main', 'more', 'most', 'poll', 'push', 'said', 'step', 'that', 'this', 'told', 'trip', 'very', 'view', 'will', 'with', 'Áine', '‘The', '“The']\n"
     ]
    }
   ],
   "source": [
    "# To list the words of length 4:\n",
    "unique = set(tokens)\n",
    "four_letter = [word for word in unique if len(word) == 4]\n",
    "print(sorted(four_letter))"
   ]
  },
  {
   "cell_type": "code",
   "execution_count": 27,
   "metadata": {
    "collapsed": false,
    "deletable": true,
    "editable": true
   },
   "outputs": [
    {
     "name": "stdout",
     "output_type": "stream",
     "text": [
      "['Coveney', 'Coveney’s', 'Failure', 'Government', 'Housing', 'Independent.ie', 'Independent/Millward', 'Kenny.“In', 'Minister', 'Patrick’s', 'Politics’', 'Speaking', 'TAOISEACH', 'Taoiseach', 'Taoiseach.”', 'Today’s', 'Varadkar', 'Washington', 'Wednesday', 'address', 'afternoon', 'believes', 'broadcaster', 'brought', 'clarity', 'clearly', 'comment', 'confidence', 'country', 'current', 'demanding', 'departure', 'destabilising', 'different', 'distracting', 'election', 'emphasis', 'expected', 'finally', 'following', 'general', 'growing', 'immediate', 'immediately', 'impatient', 'intervention', 'issue.“I', 'issuing', 'leadership', 'members.The', 'motions', 'opinion', 'orderly”', 'painting', 'parliamentary', 'planned', 'points.But', 'pressure', 'putting', 'questions', 'quickly', 'relation', 'released', 'replaced', 'respect', 'situation', 'spokesman', 'statement', 'statements', 'strategy', 'successors', 'surrounding', 'then.”Earlier', 'threats', 'through', 'timeline', 'timelines', 'trailing', 'transition', 'turmoil', 'ultimately', 'ultimatums', 'ultimatums”', 'undoubtedly', 'waiting', 'weekend', '“Everyone', '“storm”', '“threats']\n"
     ]
    }
   ],
   "source": [
    "# list the words of length greater than 6:\n",
    "long_words = [word for word in unique if len(word) > 6]\n",
    "print(sorted(long_words))"
   ]
  },
  {
   "cell_type": "code",
   "execution_count": 28,
   "metadata": {
    "collapsed": false,
    "deletable": true,
    "editable": true
   },
   "outputs": [
    {
     "name": "stdout",
     "output_type": "stream",
     "text": [
      "['The', 'members.The', '‘The', '“The']\n"
     ]
    }
   ],
   "source": [
    "# To list the words containing \"Th”:\n",
    "Th_words = [word for word in unique if \"Th\" in word]\n",
    "print(sorted(Th_words))"
   ]
  },
  {
   "cell_type": "code",
   "execution_count": 29,
   "metadata": {
    "collapsed": false,
    "deletable": true,
    "editable": true
   },
   "outputs": [
    {
     "name": "stdout",
     "output_type": "stream",
     "text": [
      "['(', ')', ',', '.', ':', 'brown', 'but', 'coveney', 'coveney’s', 'day', 'end', 'fail', 'fiann', 'fin', 'fáil', 'gael', 'govern', 'he', 'hous', 'i', 'independent.ie', 'independent/millward', 'kant', 'kenny', 'kenny.“in', 'lawl', 'leo', 'min', 'mr', 'my', 'patrick’s', 'politics’', 'rté’s', 'simon', 'speak', 'st', 'sunday', 'taoiseach', 'tds', 'taoiseach', 'taoiseach.”', 'the', 'today’s', 'varadk', 'washington', 'wednesday', 'week', 'a', 'ad', 'address', 'aft', 'afternoon', 'amid', 'an', 'and', 'any', 'around', 'as', 'asid', 'at', 'be', 'been', 'bef', 'being', 'believ', 'bit', 'broadcast', 'brought', 'but', 'by', 'cam', 'claim', 'clar', 'clear', 'com', 'com', 'confid', 'could', 'country', 'cur', 'dealt', 'demand', 'depart', 'dest', 'diff', 'distract', 'do', 'don’t', 'down', 'ear', 'echo', 'eight', 'elect', 'emphas', 'expect', 'expect', 'fear', 'fin', 'firm', 'follow', 'for', 'forc', 'from', 'ful', 'gen', 'go', 'grow', 'has', 'hav', 'he', 'hear', 'his', 'hit', 'hour', 'hug', 'immedy', 'immedy', 'impaty', 'in', 'interv', 'is', 'issu', 'issue.“i', 'issu', 'issu', 'it', 'it', 'just', 'lead', 'lead', 'lik', 'littl', 'main', 'mak', 'me', 'members.the', 'mor', 'most', 'mot', 'mot', 'my', 'no', 'of', 'on', 'opin', 'orderly”', 'oth', 'out', 'paint', 'parlia', 'party', 'peopl', 'plan', 'points.but', 'pol', 'press', 'push', 'put', 'put', 'quest', 'quick', 'rel', 'releas', 'replac', 'respect', 'result', 'riv', 'said', 'set', 'settl', 'should', 'show', 'situ', 'so', 'spokesm', 'stat', 'stat', 'step', 'stood', 'strategy', 'success', 'surround', 'tabl', 'that', 'the', 'then.”earlier', 'thing', 'think', 'thi', 'threats', 'through', 'timelin', 'timelin', 'to', 'told', 'trail', 'transit', 'trip', 'trust', 'turmoil', 'two', 'ultim', 'ultimatum', 'ultimatums”', 'und', 'undoubt', 'very', 'view', 'wait', 'want', 'was', 'we', 'weekend', 'wil', 'with', 'within', 'won’t', 'áin', '‘the', '“everyone', '“i’ve', '“the', '“calm', '“owed”', '“storm”', '“threats', '”']\n"
     ]
    }
   ],
   "source": [
    "# To use the Lancaster Stemmer:\n",
    "lancaster = nltk.LancasterStemmer()\n",
    "print([lancaster.stem(t) for t in sorted(unique)])"
   ]
  },
  {
   "cell_type": "code",
   "execution_count": 30,
   "metadata": {
    "collapsed": false,
    "deletable": true,
    "editable": true
   },
   "outputs": [
    {
     "name": "stdout",
     "output_type": "stream",
     "text": [
      "['(', ')', ',', '.', ':', 'brown', 'but', 'coveney', 'coveney’', 'day', 'enda', 'failur', 'fianna', 'fine', 'fáil', 'gael', 'govern', 'He', 'hous', 'I', 'independent.i', 'independent/millward', 'kantar', 'kenni', 'kenny.“in', 'lawlor', 'leo', 'minist', 'Mr', 'My', 'patrick’', 'politics’', 'rté’', 'simon', 'speak', 'St', 'sunday', 'taoiseach', 'td', 'taoiseach', 'taoiseach.”', 'the', 'today’', 'varadkar', 'washington', 'wednesday', 'week', 'a', 'ad', 'address', 'after', 'afternoon', 'amid', 'an', 'and', 'ani', 'around', 'as', 'asid', 'at', 'be', 'been', 'befor', 'be', 'believ', 'bit', 'broadcast', 'brought', 'but', 'by', 'came', 'claim', 'clariti', 'clearli', 'come', 'comment', 'confid', 'could', 'countri', 'current', 'dealt', 'demand', 'departur', 'destabilis', 'differ', 'distract', 'do', 'don’t', 'down', 'earli', 'echo', 'eight', 'elect', 'emphasi', 'expect', 'expect', 'fear', 'final', 'firm', 'follow', 'for', 'forc', 'from', 'full', 'gener', 'go', 'grow', 'ha', 'have', 'he', 'hear', 'hi', 'hit', 'hour', 'huge', 'immedi', 'immedi', 'impati', 'in', 'intervent', 'is', 'issu', 'issue.“i', 'issu', 'issu', 'it', 'it', 'just', 'leader', 'leadership', 'like', 'littl', 'main', 'make', 'me', 'members.th', 'more', 'most', 'motion', 'motion', 'my', 'no', 'of', 'on', 'opinion', 'orderly”', 'other', 'out', 'paint', 'parliamentari', 'parti', 'peopl', 'plan', 'points.but', 'poll', 'pressur', 'push', 'put', 'put', 'question', 'quickli', 'relat', 'releas', 'replac', 'respect', 'result', 'rival', 'said', 'set', 'settl', 'should', 'show', 'situat', 'so', 'spokesman', 'statement', 'statement', 'step', 'stood', 'strategi', 'successor', 'surround', 'tabl', 'that', 'the', 'then.”earli', 'thing', 'think', 'thi', 'threat', 'through', 'timelin', 'timelin', 'to', 'told', 'trail', 'transit', 'trip', 'trust', 'turmoil', 'two', 'ultim', 'ultimatum', 'ultimatums”', 'under', 'undoubtedli', 'veri', 'view', 'wait', 'want', 'wa', 'we', 'weekend', 'will', 'with', 'within', 'won’t', 'áine', '‘the', '“everyon', '“i’v', '“the', '“calm', '“owed”', '“storm”', '“threat', '”']\n"
     ]
    }
   ],
   "source": [
    "# To use the Porter Stemmer:\n",
    "porter = nltk.PorterStemmer()\n",
    "print([porter.stem(t) for t in sorted(unique)])"
   ]
  },
  {
   "cell_type": "code",
   "execution_count": 31,
   "metadata": {
    "collapsed": false,
    "deletable": true,
    "editable": true
   },
   "outputs": [
    {
     "name": "stdout",
     "output_type": "stream",
     "text": [
      "['(', ')', ',', '.', ':', 'Brown', 'But', 'Coveney', 'Coveney’s', 'Day', 'Enda', 'Failure', 'Fianna', 'Fine', 'Fáil', 'Gael', 'Government', 'He', 'Housing', 'I', 'Independent.ie', 'Independent/Millward', 'Kantar', 'Kenny', 'Kenny.“In', 'Lawlor', 'Leo', 'Minister', 'Mr', 'My', 'Patrick’s', 'Politics’', 'RTÉ’s', 'Simon', 'Speaking', 'St', 'Sunday', 'TAOISEACH', 'TDs', 'Taoiseach', 'Taoiseach.”', 'The', 'Today’s', 'Varadkar', 'Washington', 'Wednesday', 'Week', 'a', 'added', 'address', 'after', 'afternoon', 'amid', 'an', 'and', 'any', 'around', 'a', 'aside', 'at', 'be', 'been', 'before', 'being', 'belief', 'bit', 'broadcaster', 'brought', 'but', 'by', 'came', 'claim', 'clarity', 'clearly', 'coming', 'comment', 'confidence', 'could', 'country', 'current', 'dealt', 'demanding', 'departure', 'destabilising', 'different', 'distracting', 'do', 'don’t', 'down', 'early', 'echoed', 'eight', 'election', 'emphasis', 'expect', 'expected', 'fear', 'finally', 'firm', 'following', 'for', 'force', 'from', 'full', 'general', 'go', 'growing', 'ha', 'have', 'he', 'hear', 'his', 'hit', 'hour', 'huge', 'immediate', 'immediately', 'impatient', 'in', 'intervention', 'is', 'issue', 'issue.“I', 'issue', 'issuing', 'it', 'it', 'just', 'leader', 'leadership', 'likely', 'little', 'main', 'making', 'me', 'members.The', 'more', 'most', 'motion', 'motion', 'my', 'no', 'of', 'on', 'opinion', 'orderly”', 'other', 'out', 'painting', 'parliamentary', 'party', 'people', 'planned', 'points.But', 'poll', 'pressure', 'push', 'put', 'putting', 'question', 'quickly', 'relation', 'released', 'replaced', 'respect', 'result', 'rival', 'said', 'set', 'settle', 'should', 'show', 'situation', 'so', 'spokesman', 'statement', 'statement', 'step', 'stood', 'strategy', 'successor', 'surrounding', 'tabled', 'that', 'the', 'then.”Earlier', 'thing', 'think', 'this', 'threat', 'through', 'timeline', 'timeline', 'to', 'told', 'trailing', 'transition', 'trip', 'trust', 'turmoil', 'two', 'ultimately', 'ultimatum', 'ultimatums”', 'under', 'undoubtedly', 'very', 'view', 'waiting', 'want', 'wa', 'we', 'weekend', 'will', 'with', 'within', 'won’t', 'Áine', '‘The', '“Everyone', '“I’ve', '“The', '“calm', '“owed”', '“storm”', '“threats', '”']\n"
     ]
    }
   ],
   "source": [
    "# To lemmatise based on WordNet:\n",
    "wnl = nltk.WordNetLemmatizer()\n",
    "print([wnl.lemmatize(t) for t in sorted(unique)])"
   ]
  },
  {
   "cell_type": "code",
   "execution_count": 32,
   "metadata": {
    "collapsed": false,
    "deletable": true,
    "editable": true
   },
   "outputs": [
    {
     "data": {
      "text/plain": [
       "[('The', 'DT'),\n",
       " ('hear', 'NN'),\n",
       " ('planned', 'VBN'),\n",
       " ('ultimately', 'RB'),\n",
       " ('weekend', 'NN'),\n",
       " ('Lawlor', 'NNP'),\n",
       " ('was', 'VBD'),\n",
       " ('Failure', 'NNP'),\n",
       " ('Day', 'NNP'),\n",
       " ('by', 'IN'),\n",
       " ('people', 'NNS'),\n",
       " ('general', 'JJ'),\n",
       " ('is', 'VBZ'),\n",
       " ('but', 'CC'),\n",
       " ('demanding', 'VBG'),\n",
       " ('pressure', 'NN'),\n",
       " ('Speaking', 'VBG'),\n",
       " ('situation', 'NN'),\n",
       " ('Gael', 'NNP'),\n",
       " ('Independent/Millward', 'NNP'),\n",
       " ('expected', 'VBD'),\n",
       " ('Taoiseach', 'NNP'),\n",
       " ('and', 'CC'),\n",
       " ('trailing', 'VBG'),\n",
       " ('the', 'DT'),\n",
       " ('Week', 'NNP'),\n",
       " ('expect', 'VBP'),\n",
       " ('stood', 'NN'),\n",
       " ('came', 'VBD'),\n",
       " ('Government', 'NNP'),\n",
       " ('think', 'VB'),\n",
       " ('result', 'NN'),\n",
       " ('hours', 'NNS'),\n",
       " ('St', 'NNP'),\n",
       " ('brought', 'VBD'),\n",
       " ('address', 'NN'),\n",
       " ('from', 'IN'),\n",
       " ('have', 'VBP'),\n",
       " ('amid', 'IN'),\n",
       " ('Kenny.“In', 'NNP'),\n",
       " ('after', 'IN'),\n",
       " ('has', 'VBZ'),\n",
       " ('settle', 'VB'),\n",
       " ('Coveney', 'NNP'),\n",
       " ('go', 'VB'),\n",
       " ('putting', 'VBG'),\n",
       " ('step', 'NN'),\n",
       " ('painting', 'VBG'),\n",
       " ('out', 'RP'),\n",
       " ('Minister', 'NNP'),\n",
       " ('Patrick’s', 'NNP'),\n",
       " ('coming', 'VBG'),\n",
       " ('Wednesday', 'NNP'),\n",
       " ('believes', 'VBZ'),\n",
       " ('Simon', 'NNP'),\n",
       " ('.', '.'),\n",
       " ('making', 'VBG'),\n",
       " ('view', 'NN'),\n",
       " ('undoubtedly', 'RB'),\n",
       " ('Mr', 'NNP'),\n",
       " ('issuing', 'VBG'),\n",
       " ('two', 'CD'),\n",
       " ('no', 'DT'),\n",
       " ('at', 'IN'),\n",
       " ('Taoiseach.”', 'NNP'),\n",
       " ('said', 'VBD'),\n",
       " ('“Everyone', 'JJ'),\n",
       " ('motions', 'NNS'),\n",
       " ('his', 'PRP$'),\n",
       " ('in', 'IN'),\n",
       " ('other', 'JJ'),\n",
       " ('‘The', 'JJ'),\n",
       " ('little', 'JJ'),\n",
       " ('down', 'RP'),\n",
       " ('leadership', 'NN'),\n",
       " ('huge', 'JJ'),\n",
       " ('confidence', 'NN'),\n",
       " ('should', 'MD'),\n",
       " ('relation', 'VB'),\n",
       " ('timelines', 'NNS'),\n",
       " ('just', 'RB'),\n",
       " ('of', 'IN'),\n",
       " ('under', 'IN'),\n",
       " ('Washington', 'NNP'),\n",
       " ('trip', 'NN'),\n",
       " ('different', 'JJ'),\n",
       " ('election', 'NN'),\n",
       " ('quickly', 'RB'),\n",
       " ('points.But', 'VBD'),\n",
       " ('“owed”', 'NNP'),\n",
       " ('Fine', 'NNP'),\n",
       " ('Kantar', 'NNP'),\n",
       " ('TDs', 'NNP'),\n",
       " ('very', 'RB'),\n",
       " ('told', 'VBD'),\n",
       " ('for', 'IN'),\n",
       " ('(', '('),\n",
       " ('Today’s', 'NNP'),\n",
       " ('parliamentary', 'JJ'),\n",
       " ('motion', 'NN'),\n",
       " ('tabled', 'VBD'),\n",
       " ('as', 'IN'),\n",
       " ('early', 'JJ'),\n",
       " (')', ')'),\n",
       " ('statements', 'NNS'),\n",
       " ('Politics’', 'NNP'),\n",
       " ('added', 'VBD'),\n",
       " ('destabilising', 'VBG'),\n",
       " ('eight', 'CD'),\n",
       " ('strategy', 'NN'),\n",
       " ('me', 'PRP'),\n",
       " ('Sunday', 'NNP'),\n",
       " ('this', 'DT'),\n",
       " ('around', 'IN'),\n",
       " ('departure', 'NN'),\n",
       " ('questions', 'NNS'),\n",
       " ('Coveney’s', 'NNP'),\n",
       " ('so', 'RB'),\n",
       " ('Leo', 'NNP'),\n",
       " ('But', 'CC'),\n",
       " ('spokesman', 'NN'),\n",
       " ('I', 'PRP'),\n",
       " ('fears', 'VBP'),\n",
       " ('more', 'JJR'),\n",
       " ('things', 'NNS'),\n",
       " ('Áine', 'VBP'),\n",
       " ('within', 'IN'),\n",
       " ('“storm”', 'NN'),\n",
       " ('wants', 'VBZ'),\n",
       " ('respect', 'JJ'),\n",
       " ('push', 'NN'),\n",
       " ('ultimatums', 'NNS'),\n",
       " ('issue', 'VB'),\n",
       " ('aside', 'RB'),\n",
       " ('issue.“I', 'JJ'),\n",
       " ('rival', 'JJ'),\n",
       " ('clearly', 'RB'),\n",
       " ('“The', 'JJ'),\n",
       " ('bit', 'NN'),\n",
       " (',', ','),\n",
       " ('on', 'IN'),\n",
       " ('won’t', 'IN'),\n",
       " ('we', 'PRP'),\n",
       " ('issues', 'NNS'),\n",
       " ('Varadkar', 'VBP'),\n",
       " ('that', 'IN'),\n",
       " ('broadcaster', 'NN'),\n",
       " ('“threats', 'NNS'),\n",
       " ('leader', 'NN'),\n",
       " ('my', 'PRP$'),\n",
       " ('current', 'JJ'),\n",
       " ('He', 'PRP'),\n",
       " ('clarity', 'NN'),\n",
       " ('threats', 'VBZ'),\n",
       " ('transition', 'JJ'),\n",
       " ('opinion', 'NN'),\n",
       " ('with', 'IN'),\n",
       " ('“I’ve', 'JJ'),\n",
       " ('distracting', 'VBG'),\n",
       " ('released', 'VBN'),\n",
       " (':', ':'),\n",
       " ('My', 'PRP$'),\n",
       " ('timeline', 'NN'),\n",
       " ('an', 'DT'),\n",
       " ('successors', 'NNS'),\n",
       " ('Independent.ie', 'NNP'),\n",
       " ('RTÉ’s', 'NNP'),\n",
       " ('statement', 'NN'),\n",
       " ('full', 'JJ'),\n",
       " ('it', 'PRP'),\n",
       " ('could', 'MD'),\n",
       " ('put', 'VB'),\n",
       " ('will', 'MD'),\n",
       " ('force', 'VB'),\n",
       " ('growing', 'VBG'),\n",
       " ('Brown', 'NNP'),\n",
       " ('claim', 'NN'),\n",
       " ('members.The', 'NN'),\n",
       " ('set', 'VBN'),\n",
       " ('“calm', 'JJ'),\n",
       " ('emphasis', 'NN'),\n",
       " ('Housing', 'NNP'),\n",
       " ('been', 'VBN'),\n",
       " ('finally', 'RB'),\n",
       " ('then.”Earlier', 'JJR'),\n",
       " ('to', 'TO'),\n",
       " ('do', 'VB'),\n",
       " ('turmoil', 'NN'),\n",
       " ('dealt', 'VB'),\n",
       " ('Kenny', 'NNP'),\n",
       " ('likely', 'JJ'),\n",
       " ('surrounding', 'VBG'),\n",
       " ('immediately', 'RB'),\n",
       " ('echoed', 'VBN'),\n",
       " ('be', 'VB'),\n",
       " ('impatient', 'JJ'),\n",
       " ('Fáil', 'NNP'),\n",
       " ('a', 'DT'),\n",
       " ('following', 'JJ'),\n",
       " ('being', 'VBG'),\n",
       " ('main', 'JJ'),\n",
       " ('party', 'NN'),\n",
       " ('afternoon', 'NN'),\n",
       " ('he', 'PRP'),\n",
       " ('replaced', 'VBD'),\n",
       " ('firm', 'NN'),\n",
       " ('”', 'NNP'),\n",
       " ('don’t', 'NN'),\n",
       " ('shows', 'NNS'),\n",
       " ('immediate', 'VBP'),\n",
       " ('orderly”', 'JJ'),\n",
       " ('trust', 'JJ'),\n",
       " ('comment', 'NN'),\n",
       " ('poll', 'NN'),\n",
       " ('through', 'IN'),\n",
       " ('waiting', 'VBG'),\n",
       " ('country', 'NN'),\n",
       " ('Enda', 'NNP'),\n",
       " ('its', 'PRP$'),\n",
       " ('hit', 'NN'),\n",
       " ('Fianna', 'NNP'),\n",
       " ('before', 'IN'),\n",
       " ('ultimatums”', 'JJ'),\n",
       " ('any', 'DT'),\n",
       " ('TAOISEACH', 'NNP'),\n",
       " ('intervention', 'NN'),\n",
       " ('most', 'RBS')]"
      ]
     },
     "execution_count": 32,
     "metadata": {},
     "output_type": "execute_result"
    }
   ],
   "source": [
    "# To assign Parts-of-Speech (i.e. PoS tagging)\n",
    "nltk.pos_tag(unique)"
   ]
  },
  {
   "cell_type": "code",
   "execution_count": 33,
   "metadata": {
    "collapsed": false,
    "deletable": true,
    "editable": true
   },
   "outputs": [
    {
     "data": {
      "text/plain": [
       "'Failure to do so will undoubtedly result in a motion of no confidence being tabled immediately.'"
      ]
     },
     "execution_count": 33,
     "metadata": {},
     "output_type": "execute_result"
    }
   ],
   "source": [
    "sents[2]"
   ]
  },
  {
   "cell_type": "code",
   "execution_count": 34,
   "metadata": {
    "collapsed": true,
    "deletable": true,
    "editable": true
   },
   "outputs": [],
   "source": [
    "# Grammar 1\n",
    "mygrammar1 = nltk.CFG.fromstring(\"\"\"\n",
    " S -> NP VP\n",
    " NP -> Det N | Det Adj N\n",
    " VP -> V NP\n",
    " Det -> 'the'\n",
    " N -> 'author' | 'novel' | 'orange' | 'rabbit' | 'cat'\n",
    " V -> 'wrote' | 'chased'\n",
    " Adj -> 'orange'\n",
    " \"\"\")\n",
    "sent1 = 'the author wrote the novel'.split()\n",
    "sent2 = 'the orange rabbit chased the cat'.split()"
   ]
  },
  {
   "cell_type": "code",
   "execution_count": 37,
   "metadata": {
    "collapsed": false,
    "deletable": true,
    "editable": true
   },
   "outputs": [],
   "source": [
    "# Top-down parser with Grammar 1\n",
    "rd_parser = nltk.RecursiveDescentParser(mygrammar1)"
   ]
  },
  {
   "cell_type": "code",
   "execution_count": 39,
   "metadata": {
    "collapsed": false,
    "deletable": true,
    "editable": true
   },
   "outputs": [
    {
     "name": "stdout",
     "output_type": "stream",
     "text": [
      "(S (NP (Det the) (N author)) (VP (V wrote) (NP (Det the) (N novel))))\n"
     ]
    }
   ],
   "source": [
    "# Parse sentence 1 using TD-Parser\n",
    "for tree in rd_parser.parse(sent1):\n",
    "    print(tree)"
   ]
  },
  {
   "cell_type": "code",
   "execution_count": 40,
   "metadata": {
    "collapsed": false,
    "deletable": true,
    "editable": true
   },
   "outputs": [
    {
     "name": "stdout",
     "output_type": "stream",
     "text": [
      "(S\n",
      "  (NP (Det the) (Adj orange) (N rabbit))\n",
      "  (VP (V chased) (NP (Det the) (N cat))))\n"
     ]
    }
   ],
   "source": [
    "# Parse sentence 2 using TD-Parser\n",
    "for tree in rd_parser.parse(sent2):\n",
    "    print(tree)"
   ]
  },
  {
   "cell_type": "code",
   "execution_count": 41,
   "metadata": {
    "collapsed": true,
    "deletable": true,
    "editable": true
   },
   "outputs": [],
   "source": [
    "# Grammar 2\n",
    "mygrammar2 = nltk.CFG.fromstring(\"\"\"\n",
    " S -> NP VP\n",
    " NP -> Det N | Det N PP\n",
    " VP -> V NP | V NP PP\n",
    " PP -> P NP\n",
    " Det -> 'the'\n",
    " N -> 'child' | 'baby' | 'telescope'\n",
    " V -> 'saw'\n",
    " P -> 'with'\n",
    " \"\"\")\n",
    "sent3 = 'the child saw the baby with the telescope'.split()"
   ]
  },
  {
   "cell_type": "code",
   "execution_count": 42,
   "metadata": {
    "collapsed": true,
    "deletable": true,
    "editable": true
   },
   "outputs": [],
   "source": [
    "# Top-down parser with Grammar 2\n",
    "rd_parser1 = nltk.RecursiveDescentParser(mygrammar2)"
   ]
  },
  {
   "cell_type": "code",
   "execution_count": 43,
   "metadata": {
    "collapsed": false,
    "deletable": true,
    "editable": true
   },
   "outputs": [
    {
     "name": "stdout",
     "output_type": "stream",
     "text": [
      "(S\n",
      "  (NP (Det the) (N child))\n",
      "  (VP\n",
      "    (V saw)\n",
      "    (NP\n",
      "      (Det the)\n",
      "      (N baby)\n",
      "      (PP (P with) (NP (Det the) (N telescope))))))\n",
      "(S\n",
      "  (NP (Det the) (N child))\n",
      "  (VP\n",
      "    (V saw)\n",
      "    (NP (Det the) (N baby))\n",
      "    (PP (P with) (NP (Det the) (N telescope)))))\n"
     ]
    }
   ],
   "source": [
    "# Parse sentence 3 using TD-Parser\n",
    "trees = rd_parser1.parse(sent3)\n",
    "for tree in trees:\n",
    "    print(tree)"
   ]
  },
  {
   "cell_type": "code",
   "execution_count": 70,
   "metadata": {
    "collapsed": false,
    "deletable": true,
    "editable": true
   },
   "outputs": [
    {
     "name": "stdout",
     "output_type": "stream",
     "text": [
      "Warning: N -> 'orange' will never be used\n"
     ]
    }
   ],
   "source": [
    "# Bottom-Up Parser with Grammar 1\n",
    "#sr_parser = nltk.ShiftReduceParser(mygrammar1)\n",
    "sr_parser = nltk.ShiftReduceParser(mygrammar1, trace=1)"
   ]
  },
  {
   "cell_type": "code",
   "execution_count": 71,
   "metadata": {
    "collapsed": false,
    "deletable": true,
    "editable": true
   },
   "outputs": [
    {
     "name": "stdout",
     "output_type": "stream",
     "text": [
      "Parsing 'the author wrote the novel'\n",
      "    [ * the author wrote the novel]\n",
      "    [ 'the' * author wrote the novel]\n",
      "    [ Det 'author' * wrote the novel]\n",
      "    [ NP 'wrote' * the novel]\n",
      "    [ NP V 'the' * novel]\n",
      "    [ NP V Det 'novel' * ]\n",
      "(S (NP (Det the) (N author)) (VP (V wrote) (NP (Det the) (N novel))))\n"
     ]
    }
   ],
   "source": [
    "# Parse Sentence 1 using BU-Parser\n",
    "for tree in sr_parser.parse(sent1):\n",
    "    print(tree)"
   ]
  },
  {
   "cell_type": "code",
   "execution_count": 72,
   "metadata": {
    "collapsed": false,
    "deletable": true,
    "editable": true
   },
   "outputs": [
    {
     "name": "stdout",
     "output_type": "stream",
     "text": [
      "Parsing 'the orange rabbit chased the cat'\n",
      "    [ * the orange rabbit chased the cat]\n",
      "    [ 'the' * orange rabbit chased the cat]\n",
      "    [ Det 'orange' * rabbit chased the cat]\n",
      "    [ NP 'rabbit' * chased the cat]\n",
      "    [ NP N 'chased' * the cat]\n",
      "    [ NP N V 'the' * cat]\n",
      "    [ NP N V Det 'cat' * ]\n"
     ]
    }
   ],
   "source": [
    "# Parse Sentence 2 using BU-Parser\n",
    "for tree in sr_parser.parse(sent2):\n",
    "    print(tree)"
   ]
  },
  {
   "cell_type": "code",
   "execution_count": 73,
   "metadata": {
    "collapsed": true,
    "deletable": true,
    "editable": true
   },
   "outputs": [],
   "source": [
    "# Grammar 3\n",
    "mygrammar3 = nltk.CFG.fromstring(\"\"\"\n",
    " S -> NP VP\n",
    " NP -> Det Adj N |Det N\n",
    " VP -> V NP\n",
    " Det -> 'the'\n",
    " Adj -> 'orange'\n",
    " N -> 'author' | 'novel' | 'orange' | 'rabbit' | 'cat'\n",
    " V -> 'wrote' | 'chased'\n",
    " \"\"\")"
   ]
  },
  {
   "cell_type": "code",
   "execution_count": 74,
   "metadata": {
    "collapsed": false,
    "deletable": true,
    "editable": true
   },
   "outputs": [
    {
     "name": "stdout",
     "output_type": "stream",
     "text": [
      "Warning: Adj -> 'orange' will never be used\n"
     ]
    }
   ],
   "source": [
    "# BU-Parser with Grammar 3\n",
    "sr_parser1 = nltk.ShiftReduceParser(mygrammar3)"
   ]
  },
  {
   "cell_type": "code",
   "execution_count": 75,
   "metadata": {
    "collapsed": false,
    "deletable": true,
    "editable": true
   },
   "outputs": [
    {
     "name": "stdout",
     "output_type": "stream",
     "text": [
      "(S\n",
      "  (NP (Det the) (Adj orange) (N rabbit))\n",
      "  (VP (V chased) (NP (Det the) (N cat))))\n"
     ]
    }
   ],
   "source": [
    "# Parse sentence 4 using BU-Parser and Grammar 3\n",
    "sent4 = 'the orange rabbit chased the cat'.split()\n",
    "for tree in sr_parser1.parse(sent4):\n",
    "    print(tree)"
   ]
  },
  {
   "cell_type": "code",
   "execution_count": 76,
   "metadata": {
    "collapsed": true,
    "deletable": true,
    "editable": true
   },
   "outputs": [],
   "source": [
    "#Left-Corner Parser with Grammar 1\n",
    "lc_parser = nltk.LeftCornerChartParser(mygrammar1, trace=1)"
   ]
  },
  {
   "cell_type": "code",
   "execution_count": 77,
   "metadata": {
    "collapsed": false,
    "deletable": true,
    "editable": true
   },
   "outputs": [
    {
     "name": "stdout",
     "output_type": "stream",
     "text": [
      "|.  the  . author. wrote .  the  . novel .|\n",
      "|[-------]       .       .       .       .| [0:1] 'the'\n",
      "|.       [-------]       .       .       .| [1:2] 'author'\n",
      "|.       .       [-------]       .       .| [2:3] 'wrote'\n",
      "|.       .       .       [-------]       .| [3:4] 'the'\n",
      "|.       .       .       .       [-------]| [4:5] 'novel'\n",
      "|[-------]       .       .       .       .| [0:1] Det -> 'the' *\n",
      "|[------->       .       .       .       .| [0:1] NP -> Det * N\n",
      "|.       [-------]       .       .       .| [1:2] N  -> 'author' *\n",
      "|[---------------]       .       .       .| [0:2] NP -> Det N *\n",
      "|[--------------->       .       .       .| [0:2] S  -> NP * VP\n",
      "|.       .       [-------]       .       .| [2:3] V  -> 'wrote' *\n",
      "|.       .       [------->       .       .| [2:3] VP -> V * NP\n",
      "|.       .       .       [-------]       .| [3:4] Det -> 'the' *\n",
      "|.       .       .       [------->       .| [3:4] NP -> Det * N\n",
      "|.       .       .       .       [-------]| [4:5] N  -> 'novel' *\n",
      "|.       .       .       [---------------]| [3:5] NP -> Det N *\n",
      "|.       .       [-----------------------]| [2:5] VP -> V NP *\n",
      "|[=======================================]| [0:5] S  -> NP VP *\n",
      "(S (NP (Det the) (N author)) (VP (V wrote) (NP (Det the) (N novel))))\n"
     ]
    }
   ],
   "source": [
    "# Parse sentence 1 with LC-Parser\n",
    "for tree in lc_parser.parse(sent1):\n",
    "    print(tree)"
   ]
  },
  {
   "cell_type": "code",
   "execution_count": 79,
   "metadata": {
    "collapsed": false,
    "deletable": true,
    "editable": true
   },
   "outputs": [
    {
     "name": "stdout",
     "output_type": "stream",
     "text": [
      "|. the  .orange.rabbit.chased. the  . cat  .|\n",
      "|[------]      .      .      .      .      .| [0:1] 'the'\n",
      "|.      [------]      .      .      .      .| [1:2] 'orange'\n",
      "|.      .      [------]      .      .      .| [2:3] 'rabbit'\n",
      "|.      .      .      [------]      .      .| [3:4] 'chased'\n",
      "|.      .      .      .      [------]      .| [4:5] 'the'\n",
      "|.      .      .      .      .      [------]| [5:6] 'cat'\n",
      "|[------]      .      .      .      .      .| [0:1] Det -> 'the' *\n",
      "|[------>      .      .      .      .      .| [0:1] NP -> Det * N\n",
      "|[------>      .      .      .      .      .| [0:1] NP -> Det * Adj N\n",
      "|.      [------]      .      .      .      .| [1:2] N  -> 'orange' *\n",
      "|.      [------]      .      .      .      .| [1:2] Adj -> 'orange' *\n",
      "|[------------->      .      .      .      .| [0:2] NP -> Det Adj * N\n",
      "|[-------------]      .      .      .      .| [0:2] NP -> Det N *\n",
      "|.      .      [------]      .      .      .| [2:3] N  -> 'rabbit' *\n",
      "|[--------------------]      .      .      .| [0:3] NP -> Det Adj N *\n",
      "|[-------------------->      .      .      .| [0:3] S  -> NP * VP\n",
      "|.      .      .      [------]      .      .| [3:4] V  -> 'chased' *\n",
      "|.      .      .      [------>      .      .| [3:4] VP -> V * NP\n",
      "|.      .      .      .      [------]      .| [4:5] Det -> 'the' *\n",
      "|.      .      .      .      [------>      .| [4:5] NP -> Det * N\n",
      "|.      .      .      .      .      [------]| [5:6] N  -> 'cat' *\n",
      "|.      .      .      .      [-------------]| [4:6] NP -> Det N *\n",
      "|.      .      .      [--------------------]| [3:6] VP -> V NP *\n",
      "|[=========================================]| [0:6] S  -> NP VP *\n",
      "(S\n",
      "  (NP (Det the) (Adj orange) (N rabbit))\n",
      "  (VP (V chased) (NP (Det the) (N cat))))\n"
     ]
    }
   ],
   "source": [
    "# Parse sentence 2 with LC-Parser\n",
    "for tree in lc_parser.parse(sent2):\n",
    "    print(tree)"
   ]
  },
  {
   "cell_type": "code",
   "execution_count": 80,
   "metadata": {
    "collapsed": true,
    "deletable": true,
    "editable": true
   },
   "outputs": [],
   "source": [
    "# Grammar 4\n",
    "mygrammar4 = nltk.CFG.fromstring(\"\"\"\n",
    " S -> NP1 VP1 | NP VP\n",
    " NP1 -> Det N1 | Det Adj N1\n",
    " VP1 -> V1 NP | V1 NP1\n",
    " NP -> Det N | Det Adj N\n",
    " VP -> V NP\n",
    " Det -> 'the'\n",
    " N1 -> 'orange' | 'rabbit' | 'bark'\n",
    " N -> 'oranges' | 'rabbits' | 'barks'\n",
    " V1 -> 'likes' | 'barks'\n",
    " V -> 'like' | 'bark'\n",
    " Adj -> 'orange'\n",
    " \"\"\")"
   ]
  },
  {
   "cell_type": "code",
   "execution_count": 81,
   "metadata": {
    "collapsed": true,
    "deletable": true,
    "editable": true
   },
   "outputs": [],
   "source": [
    "# Sentence 5\n",
    "sent5 = 'the orange rabbits like the bark'.split()"
   ]
  },
  {
   "cell_type": "code",
   "execution_count": 94,
   "metadata": {
    "collapsed": true,
    "deletable": true,
    "editable": true
   },
   "outputs": [],
   "source": [
    "# BU Chart Parser with Grammar 4\n",
    "#bu_chart_parser = nltk.BottomUpChartParser(mygrammar4, trace=2)\n",
    "bu_chart_parser = nltk.BottomUpChartParser(mygrammar4, trace=0)"
   ]
  },
  {
   "cell_type": "code",
   "execution_count": 95,
   "metadata": {
    "collapsed": false,
    "deletable": true,
    "editable": true
   },
   "outputs": [],
   "source": [
    "# Parse sentence 5 with BU Chart Parser\n",
    "for tree in bu_chart_parser.parse(sent5):\n",
    "    print(tree)"
   ]
  },
  {
   "cell_type": "code",
   "execution_count": 96,
   "metadata": {
    "collapsed": true,
    "deletable": true,
    "editable": true
   },
   "outputs": [],
   "source": [
    "# TD Chart Parser with Grammar 4\n",
    "td_chart_parser = nltk.TopDownChartParser(mygrammar4, trace=0)"
   ]
  },
  {
   "cell_type": "code",
   "execution_count": 97,
   "metadata": {
    "collapsed": false,
    "deletable": true,
    "editable": true
   },
   "outputs": [],
   "source": [
    "# Parse sentence 5 with TD Chart Parser\n",
    "for tree in td_chart_parser.parse(sent5):\n",
    "    print(tree)"
   ]
  },
  {
   "cell_type": "code",
   "execution_count": 92,
   "metadata": {
    "collapsed": true,
    "deletable": true,
    "editable": true
   },
   "outputs": [],
   "source": [
    "# non accepting sent\n",
    "sent6 = 'the orange rabbits like the bark'.split()"
   ]
  },
  {
   "cell_type": "code",
   "execution_count": 98,
   "metadata": {
    "collapsed": false,
    "deletable": true,
    "editable": true
   },
   "outputs": [],
   "source": [
    "# Parse sentence 5 with BU Chart Parser\n",
    "for tree in bu_chart_parser.parse(sent6):\n",
    "    print(tree)"
   ]
  },
  {
   "cell_type": "code",
   "execution_count": 99,
   "metadata": {
    "collapsed": true,
    "deletable": true,
    "editable": true
   },
   "outputs": [],
   "source": [
    "# Parse sentence 5 with TD Chart Parser\n",
    "for tree in td_chart_parser.parse(sent6):\n",
    "    print(tree)"
   ]
  },
  {
   "cell_type": "code",
   "execution_count": null,
   "metadata": {
    "collapsed": true,
    "deletable": true,
    "editable": true
   },
   "outputs": [],
   "source": []
  }
 ],
 "metadata": {
  "kernelspec": {
   "display_name": "Python 3",
   "language": "python",
   "name": "python3"
  },
  "language_info": {
   "codemirror_mode": {
    "name": "ipython",
    "version": 3
   },
   "file_extension": ".py",
   "mimetype": "text/x-python",
   "name": "python",
   "nbconvert_exporter": "python",
   "pygments_lexer": "ipython3",
   "version": "3.6.0"
  }
 },
 "nbformat": 4,
 "nbformat_minor": 2
}
