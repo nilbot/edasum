{
 "cells": [
  {
   "cell_type": "markdown",
   "metadata": {},
   "source": [
    "## exploratory\n",
    "document cluster from key points like \n",
    "- high rating date\n",
    "- rating change period\n",
    "- yearly aggregate\n",
    "## automatic text summarisation\n",
    "sentence centroid based on local tf score -> document centroid based on genre tf and idf\n",
    "unsupervised clustering based on centroid and threshold, voting based on prestige\n",
    "sentence selection based on cluster"
   ]
  }
 ],
 "metadata": {
  "kernelspec": {
   "display_name": "Python 3",
   "language": "python",
   "name": "python3"
  },
  "language_info": {
   "codemirror_mode": {
    "name": "ipython",
    "version": 3
   },
   "file_extension": ".py",
   "mimetype": "text/x-python",
   "name": "python",
   "nbconvert_exporter": "python",
   "pygments_lexer": "ipython3",
   "version": "3.6.0"
  }
 },
 "nbformat": 4,
 "nbformat_minor": 2
}
